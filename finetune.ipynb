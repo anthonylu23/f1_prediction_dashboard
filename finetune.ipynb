{
 "cells": [
  {
   "cell_type": "markdown",
   "id": "79ade449",
   "metadata": {},
   "source": [
    "imports"
   ]
  },
  {
   "cell_type": "code",
   "execution_count": 1,
   "id": "20bf3190",
   "metadata": {},
   "outputs": [],
   "source": [
    "import xgboost as xgb\n",
    "from f1pred.training import train_and_eval_multiclass\n",
    "import pandas as pd\n",
    "from f1pred.paths import PROCESSED_DATA_PATH\n",
    "import matplotlib.pyplot as plt\n",
    "import optuna\n",
    "import optuna.visualization as vis"
   ]
  },
  {
   "cell_type": "markdown",
   "id": "c662d0fe",
   "metadata": {},
   "source": [
    "Objective function"
   ]
  },
  {
   "cell_type": "code",
   "execution_count": 2,
   "id": "c3d69938",
   "metadata": {},
   "outputs": [],
   "source": [
    "dataset = pd.read_csv(PROCESSED_DATA_PATH)\n",
    "\n",
    "def objective(trial):\n",
    "    params = {\n",
    "        'max_depth': trial.suggest_int('max_depth', 3, 10),\n",
    "        'learning_rate': trial.suggest_float('learning_rate', 0.01, 0.1),\n",
    "        'n_estimators': trial.suggest_int('n_estimators', 100, 1000),\n",
    "        'subsample': trial.suggest_float('subsample', 0.5, 1.0),\n",
    "        'colsample_bytree': trial.suggest_float('colsample_bytree', 0.5, 1.0),\n",
    "        'min_child_weight': trial.suggest_int('min_child_weight', 1, 10),\n",
    "        'gamma': trial.suggest_float('gamma', 0, 5),\n",
    "    }\n",
    "    model = xgb.XGBClassifier(**params)\n",
    "    scores = train_and_eval_multiclass(dataset, classifier=model, save_model=False)\n",
    "    return scores[\"mean_auc\"]"
   ]
  },
  {
   "cell_type": "code",
   "execution_count": 3,
   "id": "f1a72a11",
   "metadata": {},
   "outputs": [
    {
     "name": "stderr",
     "output_type": "stream",
     "text": [
      "[I 2025-08-13 16:14:13,282] A new study created in memory with name: no-name-d1e6f37e-010b-43ed-8936-a61c55445405\n"
     ]
    },
    {
     "name": "stdout",
     "output_type": "stream",
     "text": [
      "training on year [2018 2019] and testing on year 2020\n",
      "AUC score: 0.6425312399438037\n",
      "Accuracy score: 0.12615384615384614\n",
      "F1 score: 0.11411146592535616\n",
      "training on year [2019 2020] and testing on year 2021\n",
      "AUC score: 0.6461600428790657\n",
      "Accuracy score: 0.09433962264150944\n",
      "F1 score: 0.07416297119214482\n",
      "training on year [2020 2021] and testing on year 2022\n",
      "AUC score: 0.6588323966360894\n",
      "Accuracy score: 0.07960199004975124\n",
      "F1 score: 0.07225773956005267\n",
      "training on year [2021 2022] and testing on year 2023\n",
      "AUC score: 0.6234783471075447\n",
      "Accuracy score: 0.12439024390243902\n",
      "F1 score: 0.11391163283241992\n",
      "training on year [2022 2023] and testing on year 2024\n",
      "AUC score: 0.6526649533379348\n",
      "Accuracy score: 0.11685393258426967\n",
      "F1 score: 0.11365548002213546\n",
      "training on year [2023 2024] and testing on year 2025\n",
      "AUC score: 0.6895973752969369\n",
      "Accuracy score: 0.1115702479338843\n",
      "F1 score: 0.10057456531688583\n",
      "training on year [2024 2025]\n"
     ]
    },
    {
     "name": "stderr",
     "output_type": "stream",
     "text": [
      "[I 2025-08-13 16:14:46,358] Trial 0 finished with value: 0.652210725866896 and parameters: {'max_depth': 3, 'learning_rate': 0.06610362799598782, 'n_estimators': 866, 'subsample': 0.7076521696135527, 'colsample_bytree': 0.9809799542267872, 'min_child_weight': 6, 'gamma': 0.43332280876700213}. Best is trial 0 with value: 0.652210725866896.\n"
     ]
    },
    {
     "name": "stdout",
     "output_type": "stream",
     "text": [
      "training on year [2018 2019] and testing on year 2020\n",
      "AUC score: 0.6831298917176699\n",
      "Accuracy score: 0.13230769230769232\n",
      "F1 score: 0.09694148016920005\n",
      "training on year [2019 2020] and testing on year 2021\n",
      "AUC score: 0.6592465310295762\n",
      "Accuracy score: 0.09433962264150944\n",
      "F1 score: 0.062303926675843266\n",
      "training on year [2020 2021] and testing on year 2022\n",
      "AUC score: 0.6822777012119895\n",
      "Accuracy score: 0.11194029850746269\n",
      "F1 score: 0.06465698630569851\n",
      "training on year [2021 2022] and testing on year 2023\n",
      "AUC score: 0.656119207173\n",
      "Accuracy score: 0.11951219512195121\n",
      "F1 score: 0.07523980280804504\n",
      "training on year [2022 2023] and testing on year 2024\n",
      "AUC score: 0.6858948355081724\n",
      "Accuracy score: 0.1101123595505618\n",
      "F1 score: 0.07282357407374714\n",
      "training on year [2023 2024] and testing on year 2025\n",
      "AUC score: 0.7068697801549139\n",
      "Accuracy score: 0.128099173553719\n",
      "F1 score: 0.08997858115321661\n",
      "training on year [2024 2025]\n"
     ]
    },
    {
     "name": "stderr",
     "output_type": "stream",
     "text": [
      "[I 2025-08-13 16:15:04,106] Trial 1 finished with value: 0.6789229911325537 and parameters: {'max_depth': 8, 'learning_rate': 0.021813981628980305, 'n_estimators': 902, 'subsample': 0.5125035706816663, 'colsample_bytree': 0.9982737516730946, 'min_child_weight': 6, 'gamma': 4.98210678301643}. Best is trial 1 with value: 0.6789229911325537.\n"
     ]
    },
    {
     "name": "stdout",
     "output_type": "stream",
     "text": [
      "training on year [2018 2019] and testing on year 2020\n",
      "AUC score: 0.6621231651018179\n",
      "Accuracy score: 0.10461538461538461\n",
      "F1 score: 0.09671661672812062\n",
      "training on year [2019 2020] and testing on year 2021\n",
      "AUC score: 0.6731793603334816\n",
      "Accuracy score: 0.12264150943396226\n",
      "F1 score: 0.10812189772944943\n",
      "training on year [2020 2021] and testing on year 2022\n",
      "AUC score: 0.6757094979894249\n",
      "Accuracy score: 0.08706467661691543\n",
      "F1 score: 0.08056113931590063\n",
      "training on year [2021 2022] and testing on year 2023\n",
      "AUC score: 0.6604104674949768\n",
      "Accuracy score: 0.14146341463414633\n",
      "F1 score: 0.12895323264954198\n",
      "training on year [2022 2023] and testing on year 2024\n",
      "AUC score: 0.6764220186471218\n",
      "Accuracy score: 0.14157303370786517\n",
      "F1 score: 0.13577616310306295\n",
      "training on year [2023 2024] and testing on year 2025\n",
      "AUC score: 0.697285604663308\n",
      "Accuracy score: 0.1322314049586777\n",
      "F1 score: 0.12593199833402047\n",
      "training on year [2024 2025]\n"
     ]
    },
    {
     "name": "stderr",
     "output_type": "stream",
     "text": [
      "[I 2025-08-13 16:15:12,803] Trial 2 finished with value: 0.6741883523716884 and parameters: {'max_depth': 3, 'learning_rate': 0.0664251468357229, 'n_estimators': 210, 'subsample': 0.8865046266043027, 'colsample_bytree': 0.6069250628420686, 'min_child_weight': 4, 'gamma': 0.23697308700914077}. Best is trial 1 with value: 0.6789229911325537.\n"
     ]
    },
    {
     "name": "stdout",
     "output_type": "stream",
     "text": [
      "training on year [2018 2019] and testing on year 2020\n",
      "AUC score: 0.6761887031746616\n",
      "Accuracy score: 0.12\n",
      "F1 score: 0.10766934884602773\n",
      "training on year [2019 2020] and testing on year 2021\n",
      "AUC score: 0.6799656175843334\n",
      "Accuracy score: 0.07783018867924528\n",
      "F1 score: 0.06593496255164846\n",
      "training on year [2020 2021] and testing on year 2022\n",
      "AUC score: 0.6972463830053499\n",
      "Accuracy score: 0.10199004975124377\n",
      "F1 score: 0.0803325934513304\n",
      "training on year [2021 2022] and testing on year 2023\n",
      "AUC score: 0.6603583220674183\n",
      "Accuracy score: 0.16097560975609757\n",
      "F1 score: 0.13778292359394523\n",
      "training on year [2022 2023] and testing on year 2024\n",
      "AUC score: 0.7149447716845663\n",
      "Accuracy score: 0.13258426966292136\n",
      "F1 score: 0.11651434364506623\n",
      "training on year [2023 2024] and testing on year 2025\n",
      "AUC score: 0.7139130813076878\n",
      "Accuracy score: 0.15289256198347106\n",
      "F1 score: 0.13800030902031774\n",
      "training on year [2024 2025]\n"
     ]
    },
    {
     "name": "stderr",
     "output_type": "stream",
     "text": [
      "[I 2025-08-13 16:15:28,102] Trial 3 finished with value: 0.6904361464706694 and parameters: {'max_depth': 8, 'learning_rate': 0.05886481230093039, 'n_estimators': 756, 'subsample': 0.566512888693564, 'colsample_bytree': 0.8804898520441895, 'min_child_weight': 5, 'gamma': 2.6267277547502617}. Best is trial 3 with value: 0.6904361464706694.\n"
     ]
    },
    {
     "name": "stdout",
     "output_type": "stream",
     "text": [
      "training on year [2018 2019] and testing on year 2020\n",
      "AUC score: 0.6702109627183732\n",
      "Accuracy score: 0.11076923076923077\n",
      "F1 score: 0.10216405059173925\n",
      "training on year [2019 2020] and testing on year 2021\n",
      "AUC score: 0.6766943694644448\n",
      "Accuracy score: 0.12735849056603774\n",
      "F1 score: 0.10614576177641533\n",
      "training on year [2020 2021] and testing on year 2022\n",
      "AUC score: 0.6958826708558329\n",
      "Accuracy score: 0.10696517412935323\n",
      "F1 score: 0.09793270294035035\n",
      "training on year [2021 2022] and testing on year 2023\n",
      "AUC score: 0.6652374414365727\n",
      "Accuracy score: 0.15609756097560976\n",
      "F1 score: 0.14607852386577677\n",
      "training on year [2022 2023] and testing on year 2024\n",
      "AUC score: 0.6941721843446789\n",
      "Accuracy score: 0.13707865168539327\n",
      "F1 score: 0.12827345608034338\n",
      "training on year [2023 2024] and testing on year 2025\n",
      "AUC score: 0.7248650454516123\n",
      "Accuracy score: 0.11983471074380166\n",
      "F1 score: 0.10929165429146843\n",
      "training on year [2024 2025]\n"
     ]
    },
    {
     "name": "stderr",
     "output_type": "stream",
     "text": [
      "[I 2025-08-13 16:15:41,485] Trial 4 finished with value: 0.6878437790452526 and parameters: {'max_depth': 8, 'learning_rate': 0.07279903287728506, 'n_estimators': 618, 'subsample': 0.6060902427581912, 'colsample_bytree': 0.644140317580258, 'min_child_weight': 4, 'gamma': 1.8408448852362513}. Best is trial 3 with value: 0.6904361464706694.\n"
     ]
    },
    {
     "name": "stdout",
     "output_type": "stream",
     "text": [
      "training on year [2018 2019] and testing on year 2020\n",
      "AUC score: 0.672295283517843\n",
      "Accuracy score: 0.10153846153846154\n",
      "F1 score: 0.08655197363158554\n",
      "training on year [2019 2020] and testing on year 2021\n",
      "AUC score: 0.6668329158944983\n",
      "Accuracy score: 0.10613207547169812\n",
      "F1 score: 0.08660108900540653\n",
      "training on year [2020 2021] and testing on year 2022\n",
      "AUC score: 0.6718368422656339\n",
      "Accuracy score: 0.07462686567164178\n",
      "F1 score: 0.06001743499506582\n",
      "training on year [2021 2022] and testing on year 2023\n",
      "AUC score: 0.6363116894854415\n",
      "Accuracy score: 0.12195121951219512\n",
      "F1 score: 0.10425262924239953\n",
      "training on year [2022 2023] and testing on year 2024\n",
      "AUC score: 0.6908418944150845\n",
      "Accuracy score: 0.10786516853932585\n",
      "F1 score: 0.09817300030854977\n",
      "training on year [2023 2024] and testing on year 2025\n",
      "AUC score: 0.695961178857466\n",
      "Accuracy score: 0.1115702479338843\n",
      "F1 score: 0.08805497210013039\n",
      "training on year [2024 2025]\n"
     ]
    },
    {
     "name": "stderr",
     "output_type": "stream",
     "text": [
      "[I 2025-08-13 16:15:47,596] Trial 5 finished with value: 0.6723466340726612 and parameters: {'max_depth': 10, 'learning_rate': 0.08773100030299659, 'n_estimators': 171, 'subsample': 0.6540305561220936, 'colsample_bytree': 0.6912283548974233, 'min_child_weight': 9, 'gamma': 0.5305748424801743}. Best is trial 3 with value: 0.6904361464706694.\n"
     ]
    },
    {
     "name": "stdout",
     "output_type": "stream",
     "text": [
      "training on year [2018 2019] and testing on year 2020\n",
      "AUC score: 0.6798037171798651\n",
      "Accuracy score: 0.11384615384615385\n",
      "F1 score: 0.08662648478792709\n",
      "training on year [2019 2020] and testing on year 2021\n",
      "AUC score: 0.671272677245859\n",
      "Accuracy score: 0.09433962264150944\n",
      "F1 score: 0.06397359077939824\n",
      "training on year [2020 2021] and testing on year 2022\n",
      "AUC score: 0.6896354287611054\n",
      "Accuracy score: 0.10199004975124377\n",
      "F1 score: 0.0812466123377744\n",
      "training on year [2021 2022] and testing on year 2023\n",
      "AUC score: 0.6496115372447699\n",
      "Accuracy score: 0.12926829268292683\n",
      "F1 score: 0.08910565097937972\n",
      "training on year [2022 2023] and testing on year 2024\n",
      "AUC score: 0.7112244239526332\n",
      "Accuracy score: 0.1348314606741573\n",
      "F1 score: 0.11037321845559905\n",
      "training on year [2023 2024] and testing on year 2025\n",
      "AUC score: 0.7137453067949083\n",
      "Accuracy score: 0.11983471074380166\n",
      "F1 score: 0.09011802833409888\n",
      "training on year [2024 2025]\n"
     ]
    },
    {
     "name": "stderr",
     "output_type": "stream",
     "text": [
      "[I 2025-08-13 16:15:53,285] Trial 6 finished with value: 0.6858821818631902 and parameters: {'max_depth': 10, 'learning_rate': 0.09621677221178869, 'n_estimators': 283, 'subsample': 0.899466386573052, 'colsample_bytree': 0.561134260175249, 'min_child_weight': 10, 'gamma': 1.4871325776607291}. Best is trial 3 with value: 0.6904361464706694.\n"
     ]
    },
    {
     "name": "stdout",
     "output_type": "stream",
     "text": [
      "training on year [2018 2019] and testing on year 2020\n",
      "AUC score: 0.6804091266378716\n",
      "Accuracy score: 0.11384615384615385\n",
      "F1 score: 0.08973983377867241\n",
      "training on year [2019 2020] and testing on year 2021\n",
      "AUC score: 0.670659046623588\n",
      "Accuracy score: 0.12028301886792453\n",
      "F1 score: 0.08057733885846988\n",
      "training on year [2020 2021] and testing on year 2022\n",
      "AUC score: 0.6883507522732351\n",
      "Accuracy score: 0.11442786069651742\n",
      "F1 score: 0.08558826190509339\n",
      "training on year [2021 2022] and testing on year 2023\n",
      "AUC score: 0.651120616187886\n",
      "Accuracy score: 0.12926829268292683\n",
      "F1 score: 0.10428032850176959\n",
      "training on year [2022 2023] and testing on year 2024\n",
      "AUC score: 0.654047895229676\n",
      "Accuracy score: 0.1348314606741573\n",
      "F1 score: 0.10872561220463942\n",
      "training on year [2023 2024] and testing on year 2025\n",
      "AUC score: 0.7083841547167763\n",
      "Accuracy score: 0.11983471074380166\n",
      "F1 score: 0.10123082343715356\n",
      "training on year [2024 2025]\n"
     ]
    },
    {
     "name": "stderr",
     "output_type": "stream",
     "text": [
      "[I 2025-08-13 16:15:56,097] Trial 7 finished with value: 0.6754952652781722 and parameters: {'max_depth': 5, 'learning_rate': 0.05727997246883164, 'n_estimators': 118, 'subsample': 0.9283850006361705, 'colsample_bytree': 0.7460843027879729, 'min_child_weight': 3, 'gamma': 4.049990028407149}. Best is trial 3 with value: 0.6904361464706694.\n"
     ]
    },
    {
     "name": "stdout",
     "output_type": "stream",
     "text": [
      "training on year [2018 2019] and testing on year 2020\n",
      "AUC score: 0.6670628242257243\n",
      "Accuracy score: 0.09846153846153846\n",
      "F1 score: 0.09394141704853147\n",
      "training on year [2019 2020] and testing on year 2021\n",
      "AUC score: 0.665239715510862\n",
      "Accuracy score: 0.1179245283018868\n",
      "F1 score: 0.09970405527263958\n",
      "training on year [2020 2021] and testing on year 2022\n",
      "AUC score: 0.683130662437112\n",
      "Accuracy score: 0.1044776119402985\n",
      "F1 score: 0.09641798904426588\n",
      "training on year [2021 2022] and testing on year 2023\n",
      "AUC score: 0.6696473708522073\n",
      "Accuracy score: 0.13902439024390245\n",
      "F1 score: 0.11821110573313738\n",
      "training on year [2022 2023] and testing on year 2024\n",
      "AUC score: 0.6827995810955547\n",
      "Accuracy score: 0.1348314606741573\n",
      "F1 score: 0.12505925294232456\n",
      "training on year [2023 2024] and testing on year 2025\n",
      "AUC score: 0.7095110580524895\n",
      "Accuracy score: 0.11983471074380166\n",
      "F1 score: 0.11173172699166986\n",
      "training on year [2024 2025]\n"
     ]
    },
    {
     "name": "stderr",
     "output_type": "stream",
     "text": [
      "[I 2025-08-13 16:16:18,612] Trial 8 finished with value: 0.6795652020289916 and parameters: {'max_depth': 10, 'learning_rate': 0.09898201480662841, 'n_estimators': 996, 'subsample': 0.9187868410859316, 'colsample_bytree': 0.6660917770256031, 'min_child_weight': 1, 'gamma': 0.5631113336142651}. Best is trial 3 with value: 0.6904361464706694.\n"
     ]
    },
    {
     "name": "stdout",
     "output_type": "stream",
     "text": [
      "training on year [2018 2019] and testing on year 2020\n",
      "AUC score: 0.6808220340665949\n",
      "Accuracy score: 0.11076923076923077\n",
      "F1 score: 0.10241842988830076\n",
      "training on year [2019 2020] and testing on year 2021\n",
      "AUC score: 0.6811574090149516\n",
      "Accuracy score: 0.11556603773584906\n",
      "F1 score: 0.10242529404455206\n",
      "training on year [2020 2021] and testing on year 2022\n",
      "AUC score: 0.69981886823472\n",
      "Accuracy score: 0.11940298507462686\n",
      "F1 score: 0.10882076878124824\n",
      "training on year [2021 2022] and testing on year 2023\n",
      "AUC score: 0.6670855227849108\n",
      "Accuracy score: 0.13658536585365855\n",
      "F1 score: 0.1202142524248442\n",
      "training on year [2022 2023] and testing on year 2024\n",
      "AUC score: 0.6998661582091792\n",
      "Accuracy score: 0.12808988764044943\n",
      "F1 score: 0.11615636536738756\n",
      "training on year [2023 2024] and testing on year 2025\n",
      "AUC score: 0.725485288424684\n",
      "Accuracy score: 0.15702479338842976\n",
      "F1 score: 0.14201196358995558\n",
      "training on year [2024 2025]\n"
     ]
    },
    {
     "name": "stderr",
     "output_type": "stream",
     "text": [
      "[I 2025-08-13 16:16:34,308] Trial 9 finished with value: 0.6923725467891734 and parameters: {'max_depth': 6, 'learning_rate': 0.03367678283940789, 'n_estimators': 698, 'subsample': 0.661019429719609, 'colsample_bytree': 0.6565635295017065, 'min_child_weight': 4, 'gamma': 1.9119223482599357}. Best is trial 9 with value: 0.6923725467891734.\n"
     ]
    },
    {
     "name": "stdout",
     "output_type": "stream",
     "text": [
      "training on year [2018 2019] and testing on year 2020\n",
      "AUC score: 0.6888390538311102\n",
      "Accuracy score: 0.12\n",
      "F1 score: 0.08528111230126076\n",
      "training on year [2019 2020] and testing on year 2021\n",
      "AUC score: 0.6659969846172038\n",
      "Accuracy score: 0.08962264150943396\n",
      "F1 score: 0.06608229742662527\n",
      "training on year [2020 2021] and testing on year 2022\n",
      "AUC score: 0.6903086492473027\n",
      "Accuracy score: 0.10945273631840796\n",
      "F1 score: 0.0698366139436649\n",
      "training on year [2021 2022] and testing on year 2023\n",
      "AUC score: 0.6529174665198312\n",
      "Accuracy score: 0.12195121951219512\n",
      "F1 score: 0.07864359467161712\n",
      "training on year [2022 2023] and testing on year 2024\n",
      "AUC score: 0.7051953045290271\n",
      "Accuracy score: 0.1101123595505618\n",
      "F1 score: 0.07659986064022356\n",
      "training on year [2023 2024] and testing on year 2025\n",
      "AUC score: 0.7152539790133507\n",
      "Accuracy score: 0.128099173553719\n",
      "F1 score: 0.09417019152458514\n",
      "training on year [2024 2025]\n"
     ]
    },
    {
     "name": "stderr",
     "output_type": "stream",
     "text": [
      "[I 2025-08-13 16:16:44,834] Trial 10 finished with value: 0.6864185729596376 and parameters: {'max_depth': 5, 'learning_rate': 0.026517669966066092, 'n_estimators': 513, 'subsample': 0.7877850725355793, 'colsample_bytree': 0.8384089056630637, 'min_child_weight': 8, 'gamma': 3.0849547343075865}. Best is trial 9 with value: 0.6923725467891734.\n"
     ]
    },
    {
     "name": "stdout",
     "output_type": "stream",
     "text": [
      "training on year [2018 2019] and testing on year 2020\n",
      "AUC score: 0.6839241546275431\n",
      "Accuracy score: 0.12\n",
      "F1 score: 0.11668569138252396\n",
      "training on year [2019 2020] and testing on year 2021\n",
      "AUC score: 0.6910597524563837\n",
      "Accuracy score: 0.12735849056603774\n",
      "F1 score: 0.10768051707787504\n",
      "training on year [2020 2021] and testing on year 2022\n",
      "AUC score: 0.698232084698073\n",
      "Accuracy score: 0.11940298507462686\n",
      "F1 score: 0.10674469902794996\n",
      "training on year [2021 2022] and testing on year 2023\n",
      "AUC score: 0.6704077589756635\n",
      "Accuracy score: 0.13414634146341464\n",
      "F1 score: 0.11784440832487278\n",
      "training on year [2022 2023] and testing on year 2024\n",
      "AUC score: 0.6976033099742299\n",
      "Accuracy score: 0.15280898876404495\n",
      "F1 score: 0.14481632558155763\n",
      "training on year [2023 2024] and testing on year 2025\n",
      "AUC score: 0.7226301677349958\n",
      "Accuracy score: 0.15289256198347106\n",
      "F1 score: 0.13278252023508583\n",
      "training on year [2024 2025]\n"
     ]
    },
    {
     "name": "stderr",
     "output_type": "stream",
     "text": [
      "[I 2025-08-13 16:17:00,059] Trial 11 finished with value: 0.6939762047444815 and parameters: {'max_depth': 7, 'learning_rate': 0.03949922023815157, 'n_estimators': 693, 'subsample': 0.5381629195724452, 'colsample_bytree': 0.8784042724447392, 'min_child_weight': 2, 'gamma': 2.8306014566081528}. Best is trial 11 with value: 0.6939762047444815.\n"
     ]
    },
    {
     "name": "stdout",
     "output_type": "stream",
     "text": [
      "training on year [2018 2019] and testing on year 2020\n",
      "AUC score: 0.6908274044193312\n",
      "Accuracy score: 0.12\n",
      "F1 score: 0.10899769760801511\n",
      "training on year [2019 2020] and testing on year 2021\n",
      "AUC score: 0.6839424170924681\n",
      "Accuracy score: 0.10141509433962265\n",
      "F1 score: 0.07872851889422372\n",
      "training on year [2020 2021] and testing on year 2022\n",
      "AUC score: 0.6940389374676169\n",
      "Accuracy score: 0.12437810945273632\n",
      "F1 score: 0.10624021739479032\n",
      "training on year [2021 2022] and testing on year 2023\n",
      "AUC score: 0.6613443071965298\n",
      "Accuracy score: 0.12439024390243902\n",
      "F1 score: 0.09736399354236598\n",
      "training on year [2022 2023] and testing on year 2024\n",
      "AUC score: 0.6837912800895432\n",
      "Accuracy score: 0.1550561797752809\n",
      "F1 score: 0.14412420793037634\n",
      "training on year [2023 2024] and testing on year 2025\n",
      "AUC score: 0.7126573310171569\n",
      "Accuracy score: 0.1446280991735537\n",
      "F1 score: 0.1277591830509773\n",
      "training on year [2024 2025]\n"
     ]
    },
    {
     "name": "stderr",
     "output_type": "stream",
     "text": [
      "[I 2025-08-13 16:17:12,890] Trial 12 finished with value: 0.6877669462137743 and parameters: {'max_depth': 6, 'learning_rate': 0.037690418459810276, 'n_estimators': 578, 'subsample': 0.7644571280381648, 'colsample_bytree': 0.8221463544605825, 'min_child_weight': 1, 'gamma': 3.371987939832801}. Best is trial 11 with value: 0.6939762047444815.\n"
     ]
    },
    {
     "name": "stdout",
     "output_type": "stream",
     "text": [
      "training on year [2018 2019] and testing on year 2020\n",
      "AUC score: 0.6744330606242439\n",
      "Accuracy score: 0.11384615384615385\n",
      "F1 score: 0.10686991374983607\n",
      "training on year [2019 2020] and testing on year 2021\n",
      "AUC score: 0.6898097672868053\n",
      "Accuracy score: 0.14622641509433962\n",
      "F1 score: 0.12903520972993898\n",
      "training on year [2020 2021] and testing on year 2022\n",
      "AUC score: 0.6909547629419361\n",
      "Accuracy score: 0.10696517412935323\n",
      "F1 score: 0.09865498519451175\n",
      "training on year [2021 2022] and testing on year 2023\n",
      "AUC score: 0.6670133721078939\n",
      "Accuracy score: 0.15365853658536585\n",
      "F1 score: 0.13587919205579546\n",
      "training on year [2022 2023] and testing on year 2024\n",
      "AUC score: 0.6941454517773298\n",
      "Accuracy score: 0.14606741573033707\n",
      "F1 score: 0.13789599553015872\n",
      "training on year [2023 2024] and testing on year 2025\n",
      "AUC score: 0.7141300716377992\n",
      "Accuracy score: 0.16942148760330578\n",
      "F1 score: 0.16056684570034627\n",
      "training on year [2024 2025]\n"
     ]
    },
    {
     "name": "stderr",
     "output_type": "stream",
     "text": [
      "[I 2025-08-13 16:17:29,761] Trial 13 finished with value: 0.6884144143960015 and parameters: {'max_depth': 7, 'learning_rate': 0.04132291103028354, 'n_estimators': 706, 'subsample': 0.5025905526977996, 'colsample_bytree': 0.5035258131366613, 'min_child_weight': 2, 'gamma': 1.7430608594376222}. Best is trial 11 with value: 0.6939762047444815.\n"
     ]
    },
    {
     "name": "stdout",
     "output_type": "stream",
     "text": [
      "training on year [2018 2019] and testing on year 2020\n",
      "AUC score: 0.682533496953005\n",
      "Accuracy score: 0.12\n",
      "F1 score: 0.11241819500055544\n",
      "training on year [2019 2020] and testing on year 2021\n",
      "AUC score: 0.685733594818551\n",
      "Accuracy score: 0.09905660377358491\n",
      "F1 score: 0.07786573803827916\n",
      "training on year [2020 2021] and testing on year 2022\n",
      "AUC score: 0.6966616782826494\n",
      "Accuracy score: 0.12437810945273632\n",
      "F1 score: 0.11694888467585982\n",
      "training on year [2021 2022] and testing on year 2023\n",
      "AUC score: 0.6691515140968562\n",
      "Accuracy score: 0.13658536585365855\n",
      "F1 score: 0.11601299177518444\n",
      "training on year [2022 2023] and testing on year 2024\n",
      "AUC score: 0.7006378381398151\n",
      "Accuracy score: 0.15056179775280898\n",
      "F1 score: 0.13327224368923196\n",
      "training on year [2023 2024] and testing on year 2025\n",
      "AUC score: 0.7230715585997729\n",
      "Accuracy score: 0.15702479338842976\n",
      "F1 score: 0.14099514459736323\n",
      "training on year [2024 2025]\n"
     ]
    },
    {
     "name": "stderr",
     "output_type": "stream",
     "text": [
      "[I 2025-08-13 16:17:39,202] Trial 14 finished with value: 0.6929649468151081 and parameters: {'max_depth': 6, 'learning_rate': 0.039596515877017686, 'n_estimators': 409, 'subsample': 0.6671356513485076, 'colsample_bytree': 0.9156872581365932, 'min_child_weight': 3, 'gamma': 2.470507345985287}. Best is trial 11 with value: 0.6939762047444815.\n"
     ]
    },
    {
     "name": "stdout",
     "output_type": "stream",
     "text": [
      "training on year [2018 2019] and testing on year 2020\n",
      "AUC score: 0.6875887798190768\n",
      "Accuracy score: 0.11384615384615385\n",
      "F1 score: 0.10260734018317819\n",
      "training on year [2019 2020] and testing on year 2021\n",
      "AUC score: 0.6816915407969951\n",
      "Accuracy score: 0.10613207547169812\n",
      "F1 score: 0.07686916457063495\n",
      "training on year [2020 2021] and testing on year 2022\n",
      "AUC score: 0.6983677040865066\n",
      "Accuracy score: 0.12189054726368159\n",
      "F1 score: 0.10067433158964506\n",
      "training on year [2021 2022] and testing on year 2023\n",
      "AUC score: 0.6650356145990727\n",
      "Accuracy score: 0.13658536585365855\n",
      "F1 score: 0.11127332927701258\n",
      "training on year [2022 2023] and testing on year 2024\n",
      "AUC score: 0.6852428617495423\n",
      "Accuracy score: 0.14606741573033707\n",
      "F1 score: 0.12902218194713339\n",
      "training on year [2023 2024] and testing on year 2025\n",
      "AUC score: 0.719160359228561\n",
      "Accuracy score: 0.13636363636363635\n",
      "F1 score: 0.118240019264094\n",
      "training on year [2024 2025]\n"
     ]
    },
    {
     "name": "stderr",
     "output_type": "stream",
     "text": [
      "[I 2025-08-13 16:17:48,852] Trial 15 finished with value: 0.6895144767132925 and parameters: {'max_depth': 5, 'learning_rate': 0.010306676174612124, 'n_estimators': 390, 'subsample': 0.5926163723571358, 'colsample_bytree': 0.9090766086776081, 'min_child_weight': 2, 'gamma': 3.7568134058957945}. Best is trial 11 with value: 0.6939762047444815.\n"
     ]
    },
    {
     "name": "stdout",
     "output_type": "stream",
     "text": [
      "training on year [2018 2019] and testing on year 2020\n",
      "AUC score: 0.6857733330221022\n",
      "Accuracy score: 0.12\n",
      "F1 score: 0.10945822743440319\n",
      "training on year [2019 2020] and testing on year 2021\n",
      "AUC score: 0.6858711894606091\n",
      "Accuracy score: 0.1179245283018868\n",
      "F1 score: 0.0929063354576006\n",
      "training on year [2020 2021] and testing on year 2022\n",
      "AUC score: 0.6982838739105854\n",
      "Accuracy score: 0.11442786069651742\n",
      "F1 score: 0.0974665477198447\n",
      "training on year [2021 2022] and testing on year 2023\n",
      "AUC score: 0.6657148398465875\n",
      "Accuracy score: 0.12439024390243902\n",
      "F1 score: 0.10347779759581145\n",
      "training on year [2022 2023] and testing on year 2024\n",
      "AUC score: 0.6966748402465746\n",
      "Accuracy score: 0.14382022471910114\n",
      "F1 score: 0.12596189148928102\n",
      "training on year [2023 2024] and testing on year 2025\n",
      "AUC score: 0.7194961166807069\n",
      "Accuracy score: 0.13636363636363635\n",
      "F1 score: 0.12255268808230789\n",
      "training on year [2024 2025]\n"
     ]
    },
    {
     "name": "stderr",
     "output_type": "stream",
     "text": [
      "[I 2025-08-13 16:17:58,084] Trial 16 finished with value: 0.6919690321945277 and parameters: {'max_depth': 7, 'learning_rate': 0.0507643955378622, 'n_estimators': 413, 'subsample': 0.8171145582002122, 'colsample_bytree': 0.9310499635983344, 'min_child_weight': 3, 'gamma': 2.590196177433711}. Best is trial 11 with value: 0.6939762047444815.\n"
     ]
    },
    {
     "name": "stdout",
     "output_type": "stream",
     "text": [
      "training on year [2018 2019] and testing on year 2020\n",
      "AUC score: 0.6898736362402204\n",
      "Accuracy score: 0.12923076923076923\n",
      "F1 score: 0.09225965518605175\n",
      "training on year [2019 2020] and testing on year 2021\n",
      "AUC score: 0.6590852312367679\n",
      "Accuracy score: 0.09669811320754718\n",
      "F1 score: 0.07232186338717644\n",
      "training on year [2020 2021] and testing on year 2022\n",
      "AUC score: 0.6875707665021429\n",
      "Accuracy score: 0.11691542288557213\n",
      "F1 score: 0.06495909420753046\n",
      "training on year [2021 2022] and testing on year 2023\n",
      "AUC score: 0.6482722481454342\n",
      "Accuracy score: 0.11951219512195121\n",
      "F1 score: 0.07388271802048642\n",
      "training on year [2022 2023] and testing on year 2024\n",
      "AUC score: 0.684515675850183\n",
      "Accuracy score: 0.11235955056179775\n",
      "F1 score: 0.06607418367568327\n",
      "training on year [2023 2024] and testing on year 2025\n",
      "AUC score: 0.7112149363038387\n",
      "Accuracy score: 0.1487603305785124\n",
      "F1 score: 0.11507870302860976\n",
      "training on year [2024 2025]\n"
     ]
    },
    {
     "name": "stderr",
     "output_type": "stream",
     "text": [
      "[I 2025-08-13 16:18:07,472] Trial 17 finished with value: 0.6800887490464312 and parameters: {'max_depth': 4, 'learning_rate': 0.045978582862335055, 'n_estimators': 482, 'subsample': 0.7048898607592715, 'colsample_bytree': 0.7825779490133784, 'min_child_weight': 7, 'gamma': 4.508987691622616}. Best is trial 11 with value: 0.6939762047444815.\n"
     ]
    },
    {
     "name": "stdout",
     "output_type": "stream",
     "text": [
      "training on year [2018 2019] and testing on year 2020\n",
      "AUC score: 0.6722593110159247\n",
      "Accuracy score: 0.10461538461538461\n",
      "F1 score: 0.09243819750409786\n",
      "training on year [2019 2020] and testing on year 2021\n",
      "AUC score: 0.6872813857192951\n",
      "Accuracy score: 0.12028301886792453\n",
      "F1 score: 0.10281291355627616\n",
      "training on year [2020 2021] and testing on year 2022\n",
      "AUC score: 0.6932653477607353\n",
      "Accuracy score: 0.09950248756218906\n",
      "F1 score: 0.08831669424805419\n",
      "training on year [2021 2022] and testing on year 2023\n",
      "AUC score: 0.6691092911358406\n",
      "Accuracy score: 0.14146341463414633\n",
      "F1 score: 0.1280812834998672\n",
      "training on year [2022 2023] and testing on year 2024\n",
      "AUC score: 0.6975838310197421\n",
      "Accuracy score: 0.13707865168539327\n",
      "F1 score: 0.12965417578697888\n",
      "training on year [2023 2024] and testing on year 2025\n",
      "AUC score: 0.7132230185201736\n",
      "Accuracy score: 0.13636363636363635\n",
      "F1 score: 0.12372954977016581\n",
      "training on year [2024 2025]\n"
     ]
    },
    {
     "name": "stderr",
     "output_type": "stream",
     "text": [
      "[I 2025-08-13 16:18:23,852] Trial 18 finished with value: 0.6887870308619518 and parameters: {'max_depth': 9, 'learning_rate': 0.021940355137687745, 'n_estimators': 317, 'subsample': 0.5650237710210697, 'colsample_bytree': 0.856757657447794, 'min_child_weight': 2, 'gamma': 1.0299638986636228}. Best is trial 11 with value: 0.6939762047444815.\n"
     ]
    },
    {
     "name": "stdout",
     "output_type": "stream",
     "text": [
      "training on year [2018 2019] and testing on year 2020\n",
      "AUC score: 0.687943274813698\n",
      "Accuracy score: 0.12\n",
      "F1 score: 0.11436958538838651\n",
      "training on year [2019 2020] and testing on year 2021\n",
      "AUC score: 0.6848673576136302\n",
      "Accuracy score: 0.11084905660377359\n",
      "F1 score: 0.08635443584770294\n",
      "training on year [2020 2021] and testing on year 2022\n",
      "AUC score: 0.698149316931864\n",
      "Accuracy score: 0.10945273631840796\n",
      "F1 score: 0.09605940831015848\n",
      "training on year [2021 2022] and testing on year 2023\n",
      "AUC score: 0.6689147996656544\n",
      "Accuracy score: 0.12926829268292683\n",
      "F1 score: 0.10514445021134135\n",
      "training on year [2022 2023] and testing on year 2024\n",
      "AUC score: 0.7011776353315641\n",
      "Accuracy score: 0.1303370786516854\n",
      "F1 score: 0.1150936716626747\n",
      "training on year [2023 2024] and testing on year 2025\n",
      "AUC score: 0.7238773645307732\n",
      "Accuracy score: 0.1322314049586777\n",
      "F1 score: 0.11382709542410266\n",
      "training on year [2024 2025]\n"
     ]
    },
    {
     "name": "stderr",
     "output_type": "stream",
     "text": [
      "[I 2025-08-13 16:18:37,924] Trial 19 finished with value: 0.694154958147864 and parameters: {'max_depth': 6, 'learning_rate': 0.03116340626874063, 'n_estimators': 643, 'subsample': 0.6464532636598913, 'colsample_bytree': 0.9430611080206104, 'min_child_weight': 3, 'gamma': 3.10816542969066}. Best is trial 19 with value: 0.694154958147864.\n"
     ]
    },
    {
     "name": "stdout",
     "output_type": "stream",
     "text": [
      "training on year [2018 2019] and testing on year 2020\n",
      "AUC score: 0.6853309151857366\n",
      "Accuracy score: 0.13230769230769232\n",
      "F1 score: 0.10876046013400506\n",
      "training on year [2019 2020] and testing on year 2021\n",
      "AUC score: 0.6725886088918378\n",
      "Accuracy score: 0.08490566037735849\n",
      "F1 score: 0.06280882908520437\n",
      "training on year [2020 2021] and testing on year 2022\n",
      "AUC score: 0.7006584755784024\n",
      "Accuracy score: 0.09950248756218906\n",
      "F1 score: 0.07355836935136312\n",
      "training on year [2021 2022] and testing on year 2023\n",
      "AUC score: 0.6587266525663127\n",
      "Accuracy score: 0.13170731707317074\n",
      "F1 score: 0.09236311378901546\n",
      "training on year [2022 2023] and testing on year 2024\n",
      "AUC score: 0.7148780221687451\n",
      "Accuracy score: 0.1393258426966292\n",
      "F1 score: 0.09541723099841802\n",
      "training on year [2023 2024] and testing on year 2025\n",
      "AUC score: 0.7184248003802758\n",
      "Accuracy score: 0.1322314049586777\n",
      "F1 score: 0.09660267997227183\n",
      "training on year [2024 2025]\n"
     ]
    },
    {
     "name": "stderr",
     "output_type": "stream",
     "text": [
      "[I 2025-08-13 16:18:54,471] Trial 20 finished with value: 0.6917679124618852 and parameters: {'max_depth': 7, 'learning_rate': 0.012751891291773405, 'n_estimators': 768, 'subsample': 0.6279254878383329, 'colsample_bytree': 0.9453068317917508, 'min_child_weight': 5, 'gamma': 3.224616623120773}. Best is trial 19 with value: 0.694154958147864.\n"
     ]
    },
    {
     "name": "stdout",
     "output_type": "stream",
     "text": [
      "training on year [2018 2019] and testing on year 2020\n",
      "AUC score: 0.6834184168186537\n",
      "Accuracy score: 0.12\n",
      "F1 score: 0.10720770182198752\n",
      "training on year [2019 2020] and testing on year 2021\n",
      "AUC score: 0.6865795699611883\n",
      "Accuracy score: 0.10613207547169812\n",
      "F1 score: 0.08475707719668062\n",
      "training on year [2020 2021] and testing on year 2022\n",
      "AUC score: 0.6962800979816022\n",
      "Accuracy score: 0.10945273631840796\n",
      "F1 score: 0.0991104975130556\n",
      "training on year [2021 2022] and testing on year 2023\n",
      "AUC score: 0.6654617411529397\n",
      "Accuracy score: 0.12439024390243902\n",
      "F1 score: 0.10530346911221258\n",
      "training on year [2022 2023] and testing on year 2024\n",
      "AUC score: 0.7004809519838392\n",
      "Accuracy score: 0.15730337078651685\n",
      "F1 score: 0.1429453345576428\n",
      "training on year [2023 2024] and testing on year 2025\n",
      "AUC score: 0.7218940527527746\n",
      "Accuracy score: 0.14049586776859505\n",
      "F1 score: 0.1241135936016909\n",
      "training on year [2024 2025]\n"
     ]
    },
    {
     "name": "stderr",
     "output_type": "stream",
     "text": [
      "[I 2025-08-13 16:19:08,601] Trial 21 finished with value: 0.6923524717751662 and parameters: {'max_depth': 6, 'learning_rate': 0.030798824357274556, 'n_estimators': 619, 'subsample': 0.7205100768954819, 'colsample_bytree': 0.8989172746317182, 'min_child_weight': 3, 'gamma': 2.3759027679630855}. Best is trial 19 with value: 0.694154958147864.\n"
     ]
    },
    {
     "name": "stdout",
     "output_type": "stream",
     "text": [
      "training on year [2018 2019] and testing on year 2020\n",
      "AUC score: 0.6803716655995884\n",
      "Accuracy score: 0.1076923076923077\n",
      "F1 score: 0.10599442757544308\n",
      "training on year [2019 2020] and testing on year 2021\n",
      "AUC score: 0.6860873568782394\n",
      "Accuracy score: 0.11084905660377359\n",
      "F1 score: 0.09780701210590788\n",
      "training on year [2020 2021] and testing on year 2022\n",
      "AUC score: 0.6950825792096321\n",
      "Accuracy score: 0.13432835820895522\n",
      "F1 score: 0.12098511560104637\n",
      "training on year [2021 2022] and testing on year 2023\n",
      "AUC score: 0.6744193289467473\n",
      "Accuracy score: 0.12439024390243902\n",
      "F1 score: 0.10986336590456694\n",
      "training on year [2022 2023] and testing on year 2024\n",
      "AUC score: 0.6967209301254537\n",
      "Accuracy score: 0.1550561797752809\n",
      "F1 score: 0.14862883622668083\n",
      "training on year [2023 2024] and testing on year 2025\n",
      "AUC score: 0.7161871720499865\n",
      "Accuracy score: 0.1487603305785124\n",
      "F1 score: 0.1332537195303897\n",
      "training on year [2024 2025]\n"
     ]
    },
    {
     "name": "stderr",
     "output_type": "stream",
     "text": [
      "[I 2025-08-13 16:19:20,714] Trial 22 finished with value: 0.6914781721349413 and parameters: {'max_depth': 6, 'learning_rate': 0.04492957978839214, 'n_estimators': 522, 'subsample': 0.5540781608729222, 'colsample_bytree': 0.9562923318624448, 'min_child_weight': 1, 'gamma': 2.8268394251386226}. Best is trial 19 with value: 0.694154958147864.\n"
     ]
    },
    {
     "name": "stdout",
     "output_type": "stream",
     "text": [
      "training on year [2018 2019] and testing on year 2020\n",
      "AUC score: 0.6808550960087363\n",
      "Accuracy score: 0.12\n",
      "F1 score: 0.11297358958383287\n",
      "training on year [2019 2020] and testing on year 2021\n",
      "AUC score: 0.683650946953952\n",
      "Accuracy score: 0.1179245283018868\n",
      "F1 score: 0.09858954093383833\n",
      "training on year [2020 2021] and testing on year 2022\n",
      "AUC score: 0.6983796868532741\n",
      "Accuracy score: 0.11442786069651742\n",
      "F1 score: 0.10466407104862305\n",
      "training on year [2021 2022] and testing on year 2023\n",
      "AUC score: 0.6680007192906022\n",
      "Accuracy score: 0.14390243902439023\n",
      "F1 score: 0.12967994711116038\n",
      "training on year [2022 2023] and testing on year 2024\n",
      "AUC score: 0.7008339591350267\n",
      "Accuracy score: 0.14157303370786517\n",
      "F1 score: 0.12537094722796155\n",
      "training on year [2023 2024] and testing on year 2025\n",
      "AUC score: 0.7212334810774581\n",
      "Accuracy score: 0.1487603305785124\n",
      "F1 score: 0.13258012405095135\n",
      "training on year [2024 2025]\n"
     ]
    },
    {
     "name": "stderr",
     "output_type": "stream",
     "text": [
      "[I 2025-08-13 16:19:30,363] Trial 23 finished with value: 0.6921589815531749 and parameters: {'max_depth': 4, 'learning_rate': 0.03700344074151799, 'n_estimators': 407, 'subsample': 0.6579106951635564, 'colsample_bytree': 0.7911123451715378, 'min_child_weight': 3, 'gamma': 2.1731873552727436}. Best is trial 19 with value: 0.694154958147864.\n"
     ]
    },
    {
     "name": "stdout",
     "output_type": "stream",
     "text": [
      "training on year [2018 2019] and testing on year 2020\n",
      "AUC score: 0.6887333739050385\n",
      "Accuracy score: 0.10153846153846154\n",
      "F1 score: 0.08265603002734094\n",
      "training on year [2019 2020] and testing on year 2021\n",
      "AUC score: 0.6696727358463648\n",
      "Accuracy score: 0.10849056603773585\n",
      "F1 score: 0.07311510031000425\n",
      "training on year [2020 2021] and testing on year 2022\n",
      "AUC score: 0.7030171635207673\n",
      "Accuracy score: 0.11442786069651742\n",
      "F1 score: 0.08950081732178104\n",
      "training on year [2021 2022] and testing on year 2023\n",
      "AUC score: 0.6620145680222705\n",
      "Accuracy score: 0.14146341463414633\n",
      "F1 score: 0.11946444882961624\n",
      "training on year [2022 2023] and testing on year 2024\n",
      "AUC score: 0.6865198993677801\n",
      "Accuracy score: 0.1146067415730337\n",
      "F1 score: 0.08097644467187887\n",
      "training on year [2023 2024] and testing on year 2025\n",
      "AUC score: 0.714044131723283\n",
      "Accuracy score: 0.14049586776859505\n",
      "F1 score: 0.11889527370152826\n",
      "training on year [2024 2025]\n"
     ]
    },
    {
     "name": "stderr",
     "output_type": "stream",
     "text": [
      "[I 2025-08-13 16:19:43,245] Trial 24 finished with value: 0.6873336453975841 and parameters: {'max_depth': 7, 'learning_rate': 0.05004713358195771, 'n_estimators': 647, 'subsample': 0.8290523673388149, 'colsample_bytree': 0.8761977316736598, 'min_child_weight': 4, 'gamma': 3.779409232608955}. Best is trial 19 with value: 0.694154958147864.\n"
     ]
    },
    {
     "name": "stdout",
     "output_type": "stream",
     "text": [
      "training on year [2018 2019] and testing on year 2020\n",
      "AUC score: 0.6820744521394244\n",
      "Accuracy score: 0.11384615384615385\n",
      "F1 score: 0.10713137188134429\n",
      "training on year [2019 2020] and testing on year 2021\n",
      "AUC score: 0.6907068641629011\n",
      "Accuracy score: 0.12028301886792453\n",
      "F1 score: 0.10448927789744916\n",
      "training on year [2020 2021] and testing on year 2022\n",
      "AUC score: 0.6997264635348373\n",
      "Accuracy score: 0.11194029850746269\n",
      "F1 score: 0.10052024551351194\n",
      "training on year [2021 2022] and testing on year 2023\n",
      "AUC score: 0.6703485389038347\n",
      "Accuracy score: 0.12439024390243902\n",
      "F1 score: 0.10706474274300919\n",
      "training on year [2022 2023] and testing on year 2024\n",
      "AUC score: 0.6981724313714653\n",
      "Accuracy score: 0.14831460674157304\n",
      "F1 score: 0.13702755105352038\n",
      "training on year [2023 2024] and testing on year 2025\n",
      "AUC score: 0.72393777352545\n",
      "Accuracy score: 0.1652892561983471\n",
      "F1 score: 0.150498914446048\n",
      "training on year [2024 2025]\n"
     ]
    },
    {
     "name": "stderr",
     "output_type": "stream",
     "text": [
      "[I 2025-08-13 16:20:01,570] Trial 25 finished with value: 0.6941610872729854 and parameters: {'max_depth': 5, 'learning_rate': 0.026118796547790396, 'n_estimators': 813, 'subsample': 0.5410965535245977, 'colsample_bytree': 0.9267261557665286, 'min_child_weight': 2, 'gamma': 2.9179358916785465}. Best is trial 25 with value: 0.6941610872729854.\n"
     ]
    },
    {
     "name": "stdout",
     "output_type": "stream",
     "text": [
      "training on year [2018 2019] and testing on year 2020\n",
      "AUC score: 0.6853165311265866\n",
      "Accuracy score: 0.12615384615384614\n",
      "F1 score: 0.1175856600335119\n",
      "training on year [2019 2020] and testing on year 2021\n",
      "AUC score: 0.6884056006296749\n",
      "Accuracy score: 0.11320754716981132\n",
      "F1 score: 0.09318596882213089\n",
      "training on year [2020 2021] and testing on year 2022\n",
      "AUC score: 0.6982290061723229\n",
      "Accuracy score: 0.12437810945273632\n",
      "F1 score: 0.10980037350557256\n",
      "training on year [2021 2022] and testing on year 2023\n",
      "AUC score: 0.6675622183956845\n",
      "Accuracy score: 0.12926829268292683\n",
      "F1 score: 0.11022757245590033\n",
      "training on year [2022 2023] and testing on year 2024\n",
      "AUC score: 0.6964925638610493\n",
      "Accuracy score: 0.14157303370786517\n",
      "F1 score: 0.1279166186108514\n",
      "training on year [2023 2024] and testing on year 2025\n",
      "AUC score: 0.7237177935518077\n",
      "Accuracy score: 0.15702479338842976\n",
      "F1 score: 0.1408998463954366\n",
      "training on year [2024 2025]\n"
     ]
    },
    {
     "name": "stderr",
     "output_type": "stream",
     "text": [
      "[I 2025-08-13 16:20:20,373] Trial 26 finished with value: 0.6932872856228544 and parameters: {'max_depth': 4, 'learning_rate': 0.020533045634249764, 'n_estimators': 845, 'subsample': 0.5436134637394153, 'colsample_bytree': 0.973548301590369, 'min_child_weight': 2, 'gamma': 3.460633163843418}. Best is trial 25 with value: 0.6941610872729854.\n"
     ]
    },
    {
     "name": "stdout",
     "output_type": "stream",
     "text": [
      "training on year [2018 2019] and testing on year 2020\n",
      "AUC score: 0.6838086047105686\n",
      "Accuracy score: 0.12\n",
      "F1 score: 0.11319579188830091\n",
      "training on year [2019 2020] and testing on year 2021\n",
      "AUC score: 0.6881020803515738\n",
      "Accuracy score: 0.1179245283018868\n",
      "F1 score: 0.09890230364528763\n",
      "training on year [2020 2021] and testing on year 2022\n",
      "AUC score: 0.6991402567871535\n",
      "Accuracy score: 0.13432835820895522\n",
      "F1 score: 0.12312241696613356\n",
      "training on year [2021 2022] and testing on year 2023\n",
      "AUC score: 0.6704870868086442\n",
      "Accuracy score: 0.12682926829268293\n",
      "F1 score: 0.10827646903677209\n",
      "training on year [2022 2023] and testing on year 2024\n",
      "AUC score: 0.6956132494539706\n",
      "Accuracy score: 0.15955056179775282\n",
      "F1 score: 0.15084378909568055\n",
      "training on year [2023 2024] and testing on year 2025\n",
      "AUC score: 0.7138114400439798\n",
      "Accuracy score: 0.1652892561983471\n",
      "F1 score: 0.14573171515563643\n",
      "training on year [2024 2025]\n"
     ]
    },
    {
     "name": "stderr",
     "output_type": "stream",
     "text": [
      "[I 2025-08-13 16:20:37,478] Trial 27 finished with value: 0.6918271196926485 and parameters: {'max_depth': 5, 'learning_rate': 0.02983281144974773, 'n_estimators': 784, 'subsample': 0.6085267807696408, 'colsample_bytree': 0.8171628950447143, 'min_child_weight': 1, 'gamma': 3.0216459829355657}. Best is trial 25 with value: 0.6941610872729854.\n"
     ]
    },
    {
     "name": "stdout",
     "output_type": "stream",
     "text": [
      "training on year [2018 2019] and testing on year 2020\n",
      "AUC score: 0.6848505386153549\n",
      "Accuracy score: 0.12615384615384614\n",
      "F1 score: 0.11296863909530128\n",
      "training on year [2019 2020] and testing on year 2021\n",
      "AUC score: 0.6836271248696026\n",
      "Accuracy score: 0.10849056603773585\n",
      "F1 score: 0.08431405244477871\n",
      "training on year [2020 2021] and testing on year 2022\n",
      "AUC score: 0.701690195545302\n",
      "Accuracy score: 0.11940298507462686\n",
      "F1 score: 0.09907802883679326\n",
      "training on year [2021 2022] and testing on year 2023\n",
      "AUC score: 0.6666721015122373\n",
      "Accuracy score: 0.14146341463414633\n",
      "F1 score: 0.1156520934718537\n",
      "training on year [2022 2023] and testing on year 2024\n",
      "AUC score: 0.6877227161940583\n",
      "Accuracy score: 0.1303370786516854\n",
      "F1 score: 0.11474376817542806\n",
      "training on year [2023 2024] and testing on year 2025\n",
      "AUC score: 0.7194677560630518\n",
      "Accuracy score: 0.1446280991735537\n",
      "F1 score: 0.12644355688743852\n",
      "training on year [2024 2025]\n"
     ]
    },
    {
     "name": "stderr",
     "output_type": "stream",
     "text": [
      "[I 2025-08-13 16:20:57,528] Trial 28 finished with value: 0.6906717387999345 and parameters: {'max_depth': 9, 'learning_rate': 0.014116863664107682, 'n_estimators': 935, 'subsample': 0.5339384002251854, 'colsample_bytree': 0.7407004523403742, 'min_child_weight': 2, 'gamma': 4.08030780390577}. Best is trial 25 with value: 0.6941610872729854.\n"
     ]
    },
    {
     "name": "stdout",
     "output_type": "stream",
     "text": [
      "training on year [2018 2019] and testing on year 2020\n",
      "AUC score: 0.6678585922354022\n",
      "Accuracy score: 0.12615384615384614\n",
      "F1 score: 0.09252888337670948\n",
      "training on year [2019 2020] and testing on year 2021\n",
      "AUC score: 0.6621307114684678\n",
      "Accuracy score: 0.10613207547169812\n",
      "F1 score: 0.07326542513924703\n",
      "training on year [2020 2021] and testing on year 2022\n",
      "AUC score: 0.6981035727617062\n",
      "Accuracy score: 0.10945273631840796\n",
      "F1 score: 0.0741695445752313\n",
      "training on year [2021 2022] and testing on year 2023\n",
      "AUC score: 0.6499126001579508\n",
      "Accuracy score: 0.13170731707317074\n",
      "F1 score: 0.09838688698691857\n",
      "training on year [2022 2023] and testing on year 2024\n",
      "AUC score: 0.6545615875312428\n",
      "Accuracy score: 0.11235955056179775\n",
      "F1 score: 0.07623930194457819\n",
      "training on year [2023 2024] and testing on year 2025\n",
      "AUC score: 0.7045612934609677\n",
      "Accuracy score: 0.128099173553719\n",
      "F1 score: 0.09246737136264904\n",
      "training on year [2024 2025]\n"
     ]
    },
    {
     "name": "stderr",
     "output_type": "stream",
     "text": [
      "[I 2025-08-13 16:21:14,857] Trial 29 finished with value: 0.6728547262692897 and parameters: {'max_depth': 3, 'learning_rate': 0.025960019624201275, 'n_estimators': 837, 'subsample': 0.9846386252685535, 'colsample_bytree': 0.9989564463794739, 'min_child_weight': 5, 'gamma': 3.6003548453469496}. Best is trial 25 with value: 0.6941610872729854.\n"
     ]
    },
    {
     "name": "stdout",
     "output_type": "stream",
     "text": [
      "training on year [2018 2019] and testing on year 2020\n",
      "AUC score: 0.6709423774072165\n",
      "Accuracy score: 0.10461538461538461\n",
      "F1 score: 0.09665242948157855\n",
      "training on year [2019 2020] and testing on year 2021\n",
      "AUC score: 0.6693090724262122\n",
      "Accuracy score: 0.12028301886792453\n",
      "F1 score: 0.0994514878900926\n",
      "training on year [2020 2021] and testing on year 2022\n",
      "AUC score: 0.6818944666920348\n",
      "Accuracy score: 0.07960199004975124\n",
      "F1 score: 0.07750793404741615\n",
      "training on year [2021 2022] and testing on year 2023\n",
      "AUC score: 0.6467180757488775\n",
      "Accuracy score: 0.15121951219512195\n",
      "F1 score: 0.13609958585931725\n",
      "training on year [2022 2023] and testing on year 2024\n",
      "AUC score: 0.6913022140982912\n",
      "Accuracy score: 0.13707865168539327\n",
      "F1 score: 0.12633297024455953\n",
      "training on year [2023 2024] and testing on year 2025\n",
      "AUC score: 0.710412386906678\n",
      "Accuracy score: 0.1115702479338843\n",
      "F1 score: 0.09451877087616632\n",
      "training on year [2024 2025]\n"
     ]
    },
    {
     "name": "stderr",
     "output_type": "stream",
     "text": [
      "[I 2025-08-13 16:21:31,464] Trial 30 finished with value: 0.6784297655465518 and parameters: {'max_depth': 5, 'learning_rate': 0.06606940999153452, 'n_estimators': 682, 'subsample': 0.6953380936607145, 'colsample_bytree': 0.9571164844470422, 'min_child_weight': 7, 'gamma': 1.3681901633981044}. Best is trial 25 with value: 0.6941610872729854.\n"
     ]
    },
    {
     "name": "stdout",
     "output_type": "stream",
     "text": [
      "training on year [2018 2019] and testing on year 2020\n",
      "AUC score: 0.6845344072443771\n",
      "Accuracy score: 0.12923076923076923\n",
      "F1 score: 0.12129472895958004\n",
      "training on year [2019 2020] and testing on year 2021\n",
      "AUC score: 0.6881997912943045\n",
      "Accuracy score: 0.10849056603773585\n",
      "F1 score: 0.0857168330226749\n",
      "training on year [2020 2021] and testing on year 2022\n",
      "AUC score: 0.6999654620049596\n",
      "Accuracy score: 0.11442786069651742\n",
      "F1 score: 0.1003160247263491\n",
      "training on year [2021 2022] and testing on year 2023\n",
      "AUC score: 0.6665332713785963\n",
      "Accuracy score: 0.12926829268292683\n",
      "F1 score: 0.1079824177512003\n",
      "training on year [2022 2023] and testing on year 2024\n",
      "AUC score: 0.6959018762739524\n",
      "Accuracy score: 0.13707865168539327\n",
      "F1 score: 0.1249438817962014\n",
      "training on year [2023 2024] and testing on year 2025\n",
      "AUC score: 0.7226183611871242\n",
      "Accuracy score: 0.1487603305785124\n",
      "F1 score: 0.13218337617297915\n",
      "training on year [2024 2025]\n"
     ]
    },
    {
     "name": "stderr",
     "output_type": "stream",
     "text": [
      "[I 2025-08-13 16:21:50,255] Trial 31 finished with value: 0.6929588615638856 and parameters: {'max_depth': 4, 'learning_rate': 0.01782132695099241, 'n_estimators': 832, 'subsample': 0.5357058226177582, 'colsample_bytree': 0.9557536190722833, 'min_child_weight': 2, 'gamma': 3.441479261579814}. Best is trial 25 with value: 0.6941610872729854.\n"
     ]
    },
    {
     "name": "stdout",
     "output_type": "stream",
     "text": [
      "training on year [2018 2019] and testing on year 2020\n",
      "AUC score: 0.6819995539285668\n",
      "Accuracy score: 0.12923076923076923\n",
      "F1 score: 0.11823074301503994\n",
      "training on year [2019 2020] and testing on year 2021\n",
      "AUC score: 0.6924611763998371\n",
      "Accuracy score: 0.12028301886792453\n",
      "F1 score: 0.09932366228898225\n",
      "training on year [2020 2021] and testing on year 2022\n",
      "AUC score: 0.6981677007285523\n",
      "Accuracy score: 0.12437810945273632\n",
      "F1 score: 0.11099053326478056\n",
      "training on year [2021 2022] and testing on year 2023\n",
      "AUC score: 0.6699558300710537\n",
      "Accuracy score: 0.13170731707317074\n",
      "F1 score: 0.11397910779646926\n",
      "training on year [2022 2023] and testing on year 2024\n",
      "AUC score: 0.697660788143847\n",
      "Accuracy score: 0.14157303370786517\n",
      "F1 score: 0.12954627731122292\n",
      "training on year [2023 2024] and testing on year 2025\n",
      "AUC score: 0.724576241545274\n",
      "Accuracy score: 0.15702479338842976\n",
      "F1 score: 0.1409357876886308\n",
      "training on year [2024 2025]\n"
     ]
    },
    {
     "name": "stderr",
     "output_type": "stream",
     "text": [
      "[I 2025-08-13 16:22:10,741] Trial 32 finished with value: 0.6941368818028552 and parameters: {'max_depth': 4, 'learning_rate': 0.019674075008076046, 'n_estimators': 884, 'subsample': 0.5032546874096273, 'colsample_bytree': 0.9712569258964753, 'min_child_weight': 2, 'gamma': 2.8694040339896274}. Best is trial 25 with value: 0.6941610872729854.\n"
     ]
    },
    {
     "name": "stdout",
     "output_type": "stream",
     "text": [
      "training on year [2018 2019] and testing on year 2020\n",
      "AUC score: 0.6811951121891685\n",
      "Accuracy score: 0.11692307692307692\n",
      "F1 score: 0.11048075502217794\n",
      "training on year [2019 2020] and testing on year 2021\n",
      "AUC score: 0.6913209394845345\n",
      "Accuracy score: 0.10377358490566038\n",
      "F1 score: 0.08350260611580454\n",
      "training on year [2020 2021] and testing on year 2022\n",
      "AUC score: 0.6979283861870231\n",
      "Accuracy score: 0.11691542288557213\n",
      "F1 score: 0.10141774557739684\n",
      "training on year [2021 2022] and testing on year 2023\n",
      "AUC score: 0.6705995115882823\n",
      "Accuracy score: 0.13902439024390245\n",
      "F1 score: 0.1185829962563241\n",
      "training on year [2022 2023] and testing on year 2024\n",
      "AUC score: 0.6945525918893506\n",
      "Accuracy score: 0.15056179775280898\n",
      "F1 score: 0.14133515011227699\n",
      "training on year [2023 2024] and testing on year 2025\n",
      "AUC score: 0.7167284380076501\n",
      "Accuracy score: 0.16115702479338842\n",
      "F1 score: 0.1408443732618267\n",
      "training on year [2024 2025]\n"
     ]
    },
    {
     "name": "stderr",
     "output_type": "stream",
     "text": [
      "[I 2025-08-13 16:22:32,054] Trial 33 finished with value: 0.692054163224335 and parameters: {'max_depth': 3, 'learning_rate': 0.02456208884494416, 'n_estimators': 913, 'subsample': 0.5871310345960594, 'colsample_bytree': 0.9967272729163974, 'min_child_weight': 1, 'gamma': 2.911616949828401}. Best is trial 25 with value: 0.6941610872729854.\n"
     ]
    },
    {
     "name": "stdout",
     "output_type": "stream",
     "text": [
      "training on year [2018 2019] and testing on year 2020\n",
      "AUC score: 0.6710529476403494\n",
      "Accuracy score: 0.11384615384615385\n",
      "F1 score: 0.10044951731903802\n",
      "training on year [2019 2020] and testing on year 2021\n",
      "AUC score: 0.6756801160731081\n",
      "Accuracy score: 0.09905660377358491\n",
      "F1 score: 0.08398299623854229\n",
      "training on year [2020 2021] and testing on year 2022\n",
      "AUC score: 0.6960346658119768\n",
      "Accuracy score: 0.09701492537313433\n",
      "F1 score: 0.08322603736346897\n",
      "training on year [2021 2022] and testing on year 2023\n",
      "AUC score: 0.6571291961385899\n",
      "Accuracy score: 0.15609756097560976\n",
      "F1 score: 0.13888751386803821\n",
      "training on year [2022 2023] and testing on year 2024\n",
      "AUC score: 0.6989819798485184\n",
      "Accuracy score: 0.13258426966292136\n",
      "F1 score: 0.12165479797674636\n",
      "training on year [2023 2024] and testing on year 2025\n",
      "AUC score: 0.723252896578431\n",
      "Accuracy score: 0.16115702479338842\n",
      "F1 score: 0.14813308960117394\n",
      "training on year [2024 2025]\n"
     ]
    },
    {
     "name": "stderr",
     "output_type": "stream",
     "text": [
      "[I 2025-08-13 16:22:54,843] Trial 34 finished with value: 0.6870219670151623 and parameters: {'max_depth': 4, 'learning_rate': 0.031792539994104856, 'n_estimators': 991, 'subsample': 0.5104471915978758, 'colsample_bytree': 0.8892088466268717, 'min_child_weight': 4, 'gamma': 2.164897911135194}. Best is trial 25 with value: 0.6941610872729854.\n"
     ]
    },
    {
     "name": "stdout",
     "output_type": "stream",
     "text": [
      "training on year [2018 2019] and testing on year 2020\n",
      "AUC score: 0.6857365632769067\n",
      "Accuracy score: 0.11384615384615385\n",
      "F1 score: 0.1061583379468267\n",
      "training on year [2019 2020] and testing on year 2021\n",
      "AUC score: 0.6826398260719035\n",
      "Accuracy score: 0.09905660377358491\n",
      "F1 score: 0.07749556526552652\n",
      "training on year [2020 2021] and testing on year 2022\n",
      "AUC score: 0.6995965664932763\n",
      "Accuracy score: 0.11691542288557213\n",
      "F1 score: 0.1041668748247995\n",
      "training on year [2021 2022] and testing on year 2023\n",
      "AUC score: 0.668907922319883\n",
      "Accuracy score: 0.13658536585365855\n",
      "F1 score: 0.1178142708296447\n",
      "training on year [2022 2023] and testing on year 2024\n",
      "AUC score: 0.7012029877068493\n",
      "Accuracy score: 0.12808988764044943\n",
      "F1 score: 0.11241517993191688\n",
      "training on year [2023 2024] and testing on year 2025\n",
      "AUC score: 0.7264746375154444\n",
      "Accuracy score: 0.14049586776859505\n",
      "F1 score: 0.12365005478159652\n",
      "training on year [2024 2025]\n"
     ]
    },
    {
     "name": "stderr",
     "output_type": "stream",
     "text": [
      "[I 2025-08-13 16:23:11,941] Trial 35 finished with value: 0.6940930838973772 and parameters: {'max_depth': 5, 'learning_rate': 0.016055217944156264, 'n_estimators': 738, 'subsample': 0.6267581097322036, 'colsample_bytree': 0.9237664929227122, 'min_child_weight': 3, 'gamma': 2.7908377810631424}. Best is trial 25 with value: 0.6941610872729854.\n"
     ]
    },
    {
     "name": "stdout",
     "output_type": "stream",
     "text": [
      "training on year [2018 2019] and testing on year 2020\n",
      "AUC score: 0.6852637106005457\n",
      "Accuracy score: 0.13230769230769232\n",
      "F1 score: 0.11269214850487462\n",
      "training on year [2019 2020] and testing on year 2021\n",
      "AUC score: 0.6674238217616623\n",
      "Accuracy score: 0.10849056603773585\n",
      "F1 score: 0.07774613490372013\n",
      "training on year [2020 2021] and testing on year 2022\n",
      "AUC score: 0.7012213217796972\n",
      "Accuracy score: 0.11194029850746269\n",
      "F1 score: 0.08667233489503491\n",
      "training on year [2021 2022] and testing on year 2023\n",
      "AUC score: 0.6625985206534181\n",
      "Accuracy score: 0.12682926829268293\n",
      "F1 score: 0.0977507139809801\n",
      "training on year [2022 2023] and testing on year 2024\n",
      "AUC score: 0.6754682160142422\n",
      "Accuracy score: 0.1101123595505618\n",
      "F1 score: 0.08172275992102668\n",
      "training on year [2023 2024] and testing on year 2025\n",
      "AUC score: 0.7186354715198683\n",
      "Accuracy score: 0.13636363636363635\n",
      "F1 score: 0.11965750869449689\n",
      "training on year [2024 2025]\n"
     ]
    },
    {
     "name": "stderr",
     "output_type": "stream",
     "text": [
      "[I 2025-08-13 16:23:28,591] Trial 36 finished with value: 0.6851018437215725 and parameters: {'max_depth': 5, 'learning_rate': 0.016909188052111637, 'n_estimators': 794, 'subsample': 0.6335969622867279, 'colsample_bytree': 0.9277992696145141, 'min_child_weight': 3, 'gamma': 4.679998399530467}. Best is trial 25 with value: 0.6941610872729854.\n"
     ]
    },
    {
     "name": "stdout",
     "output_type": "stream",
     "text": [
      "training on year [2018 2019] and testing on year 2020\n",
      "AUC score: 0.6857032307620256\n",
      "Accuracy score: 0.12923076923076923\n",
      "F1 score: 0.10970384339647886\n",
      "training on year [2019 2020] and testing on year 2021\n",
      "AUC score: 0.6763502229802114\n",
      "Accuracy score: 0.08018867924528301\n",
      "F1 score: 0.06701007223528867\n",
      "training on year [2020 2021] and testing on year 2022\n",
      "AUC score: 0.6938126794242497\n",
      "Accuracy score: 0.09950248756218906\n",
      "F1 score: 0.07568314872136914\n",
      "training on year [2021 2022] and testing on year 2023\n",
      "AUC score: 0.6571787616624599\n",
      "Accuracy score: 0.12682926829268293\n",
      "F1 score: 0.08868618062318126\n",
      "training on year [2022 2023] and testing on year 2024\n",
      "AUC score: 0.7189209423872488\n",
      "Accuracy score: 0.12808988764044943\n",
      "F1 score: 0.1072970704485637\n",
      "training on year [2023 2024] and testing on year 2025\n",
      "AUC score: 0.7130755546324326\n",
      "Accuracy score: 0.15702479338842976\n",
      "F1 score: 0.13824418517022344\n",
      "training on year [2024 2025]\n"
     ]
    },
    {
     "name": "stderr",
     "output_type": "stream",
     "text": [
      "[I 2025-08-13 16:23:44,218] Trial 37 finished with value: 0.6908402319747714 and parameters: {'max_depth': 3, 'learning_rate': 0.01930745750567953, 'n_estimators': 726, 'subsample': 0.5793872934492484, 'colsample_bytree': 0.9748055813661507, 'min_child_weight': 6, 'gamma': 2.6967394594965475}. Best is trial 25 with value: 0.6941610872729854.\n"
     ]
    },
    {
     "name": "stdout",
     "output_type": "stream",
     "text": [
      "training on year [2018 2019] and testing on year 2020\n",
      "AUC score: 0.6808720479593484\n",
      "Accuracy score: 0.1076923076923077\n",
      "F1 score: 0.09099053961406903\n",
      "training on year [2019 2020] and testing on year 2021\n",
      "AUC score: 0.6789950176702494\n",
      "Accuracy score: 0.10377358490566038\n",
      "F1 score: 0.08800105843370701\n",
      "training on year [2020 2021] and testing on year 2022\n",
      "AUC score: 0.7003127899852852\n",
      "Accuracy score: 0.10199004975124377\n",
      "F1 score: 0.08939657828298646\n",
      "training on year [2021 2022] and testing on year 2023\n",
      "AUC score: 0.6650602833398566\n",
      "Accuracy score: 0.14146341463414633\n",
      "F1 score: 0.12455301432946252\n",
      "training on year [2022 2023] and testing on year 2024\n",
      "AUC score: 0.7040232946131055\n",
      "Accuracy score: 0.13258426966292136\n",
      "F1 score: 0.12069571644978189\n",
      "training on year [2023 2024] and testing on year 2025\n",
      "AUC score: 0.7274454030729471\n",
      "Accuracy score: 0.15702479338842976\n",
      "F1 score: 0.14335165847470369\n",
      "training on year [2024 2025]\n"
     ]
    },
    {
     "name": "stderr",
     "output_type": "stream",
     "text": [
      "[I 2025-08-13 16:24:04,163] Trial 38 finished with value: 0.6927848061067986 and parameters: {'max_depth': 4, 'learning_rate': 0.026800430750958917, 'n_estimators': 887, 'subsample': 0.6106624849363453, 'colsample_bytree': 0.8672961203062066, 'min_child_weight': 4, 'gamma': 2.1478056373691516}. Best is trial 25 with value: 0.6941610872729854.\n"
     ]
    },
    {
     "name": "stdout",
     "output_type": "stream",
     "text": [
      "training on year [2018 2019] and testing on year 2020\n",
      "AUC score: 0.6846609679311466\n",
      "Accuracy score: 0.12923076923076923\n",
      "F1 score: 0.10232279367455893\n",
      "training on year [2019 2020] and testing on year 2021\n",
      "AUC score: 0.6743727786910962\n",
      "Accuracy score: 0.09433962264150944\n",
      "F1 score: 0.06979456609237886\n",
      "training on year [2020 2021] and testing on year 2022\n",
      "AUC score: 0.7017962435460936\n",
      "Accuracy score: 0.1044776119402985\n",
      "F1 score: 0.07889611726269115\n",
      "training on year [2021 2022] and testing on year 2023\n",
      "AUC score: 0.659780889290041\n",
      "Accuracy score: 0.13658536585365855\n",
      "F1 score: 0.10415858213378039\n",
      "training on year [2022 2023] and testing on year 2024\n",
      "AUC score: 0.6943321803181035\n",
      "Accuracy score: 0.12359550561797752\n",
      "F1 score: 0.09535792361196993\n",
      "training on year [2023 2024] and testing on year 2025\n",
      "AUC score: 0.7202705877354599\n",
      "Accuracy score: 0.16115702479338842\n",
      "F1 score: 0.13159682113277976\n",
      "training on year [2024 2025]\n"
     ]
    },
    {
     "name": "stderr",
     "output_type": "stream",
     "text": [
      "[I 2025-08-13 16:24:23,158] Trial 39 finished with value: 0.6892022745853236 and parameters: {'max_depth': 5, 'learning_rate': 0.014626808264109526, 'n_estimators': 933, 'subsample': 0.7414686578173624, 'colsample_bytree': 0.7191689542314541, 'min_child_weight': 5, 'gamma': 3.1819375851733316}. Best is trial 25 with value: 0.6941610872729854.\n"
     ]
    },
    {
     "name": "stdout",
     "output_type": "stream",
     "text": [
      "training on year [2018 2019] and testing on year 2020\n",
      "AUC score: 0.6794952445431666\n",
      "Accuracy score: 0.10461538461538461\n",
      "F1 score: 0.09825693206848941\n",
      "training on year [2019 2020] and testing on year 2021\n",
      "AUC score: 0.6765865691809505\n",
      "Accuracy score: 0.10377358490566038\n",
      "F1 score: 0.08463696539833523\n",
      "training on year [2020 2021] and testing on year 2022\n",
      "AUC score: 0.6954340613326838\n",
      "Accuracy score: 0.11194029850746269\n",
      "F1 score: 0.10103131153938047\n",
      "training on year [2021 2022] and testing on year 2023\n",
      "AUC score: 0.665162455837549\n",
      "Accuracy score: 0.13902439024390245\n",
      "F1 score: 0.12217895508755762\n",
      "training on year [2022 2023] and testing on year 2024\n",
      "AUC score: 0.6966225008755412\n",
      "Accuracy score: 0.12808988764044943\n",
      "F1 score: 0.11524383986420814\n",
      "training on year [2023 2024] and testing on year 2025\n",
      "AUC score: 0.723697946952858\n",
      "Accuracy score: 0.16115702479338842\n",
      "F1 score: 0.14318317862846341\n",
      "training on year [2024 2025]\n"
     ]
    },
    {
     "name": "stderr",
     "output_type": "stream",
     "text": [
      "[I 2025-08-13 16:24:35,476] Trial 40 finished with value: 0.6894997964537916 and parameters: {'max_depth': 6, 'learning_rate': 0.08578721071187245, 'n_estimators': 579, 'subsample': 0.6830729092692337, 'colsample_bytree': 0.9366456739372947, 'min_child_weight': 4, 'gamma': 2.370109447068167}. Best is trial 25 with value: 0.6941610872729854.\n"
     ]
    },
    {
     "name": "stdout",
     "output_type": "stream",
     "text": [
      "training on year [2018 2019] and testing on year 2020\n",
      "AUC score: 0.683134103202822\n",
      "Accuracy score: 0.10461538461538461\n",
      "F1 score: 0.09689621824513393\n",
      "training on year [2019 2020] and testing on year 2021\n",
      "AUC score: 0.6913767632484715\n",
      "Accuracy score: 0.11320754716981132\n",
      "F1 score: 0.09528461178459312\n",
      "training on year [2020 2021] and testing on year 2022\n",
      "AUC score: 0.698012859942188\n",
      "Accuracy score: 0.12189054726368159\n",
      "F1 score: 0.1104070352721807\n",
      "training on year [2021 2022] and testing on year 2023\n",
      "AUC score: 0.6726981488210146\n",
      "Accuracy score: 0.12926829268292683\n",
      "F1 score: 0.11061467226509429\n",
      "training on year [2022 2023] and testing on year 2024\n",
      "AUC score: 0.6993023361594584\n",
      "Accuracy score: 0.1348314606741573\n",
      "F1 score: 0.12648787752071136\n",
      "training on year [2023 2024] and testing on year 2025\n",
      "AUC score: 0.7240249116829414\n",
      "Accuracy score: 0.1446280991735537\n",
      "F1 score: 0.13014958833270926\n",
      "training on year [2024 2025]\n"
     ]
    },
    {
     "name": "stderr",
     "output_type": "stream",
     "text": [
      "[I 2025-08-13 16:24:50,218] Trial 41 finished with value: 0.6947581871761493 and parameters: {'max_depth': 8, 'learning_rate': 0.03525783934733662, 'n_estimators': 664, 'subsample': 0.5226899635892943, 'colsample_bytree': 0.8498782988727727, 'min_child_weight': 2, 'gamma': 2.8782543850596976}. Best is trial 41 with value: 0.6947581871761493.\n"
     ]
    },
    {
     "name": "stdout",
     "output_type": "stream",
     "text": [
      "training on year [2018 2019] and testing on year 2020\n",
      "AUC score: 0.6825334948445682\n",
      "Accuracy score: 0.12\n",
      "F1 score: 0.11259134586559724\n",
      "training on year [2019 2020] and testing on year 2021\n",
      "AUC score: 0.6818889613012545\n",
      "Accuracy score: 0.10613207547169812\n",
      "F1 score: 0.08472865691187269\n",
      "training on year [2020 2021] and testing on year 2022\n",
      "AUC score: 0.7016432439721352\n",
      "Accuracy score: 0.11442786069651742\n",
      "F1 score: 0.09797909782153709\n",
      "training on year [2021 2022] and testing on year 2023\n",
      "AUC score: 0.6658007304056037\n",
      "Accuracy score: 0.15365853658536585\n",
      "F1 score: 0.13671026293582678\n",
      "training on year [2022 2023] and testing on year 2024\n",
      "AUC score: 0.7022492088225838\n",
      "Accuracy score: 0.1393258426966292\n",
      "F1 score: 0.12770730037548203\n",
      "training on year [2023 2024] and testing on year 2025\n",
      "AUC score: 0.7268073176984953\n",
      "Accuracy score: 0.1652892561983471\n",
      "F1 score: 0.14480596672122611\n",
      "training on year [2024 2025]\n"
     ]
    },
    {
     "name": "stderr",
     "output_type": "stream",
     "text": [
      "[I 2025-08-13 16:25:07,077] Trial 42 finished with value: 0.6934871595074402 and parameters: {'max_depth': 8, 'learning_rate': 0.02123063494005427, 'n_estimators': 746, 'subsample': 0.5242836806890632, 'colsample_bytree': 0.8434795515383534, 'min_child_weight': 3, 'gamma': 2.6352668199706617}. Best is trial 41 with value: 0.6947581871761493.\n"
     ]
    },
    {
     "name": "stdout",
     "output_type": "stream",
     "text": [
      "training on year [2018 2019] and testing on year 2020\n",
      "AUC score: 0.6833827455590042\n",
      "Accuracy score: 0.13230769230769232\n",
      "F1 score: 0.12369604705093927\n",
      "training on year [2019 2020] and testing on year 2021\n",
      "AUC score: 0.686075073550585\n",
      "Accuracy score: 0.11556603773584906\n",
      "F1 score: 0.09530272417978286\n",
      "training on year [2020 2021] and testing on year 2022\n",
      "AUC score: 0.6935248936295568\n",
      "Accuracy score: 0.11691542288557213\n",
      "F1 score: 0.10476262253099593\n",
      "training on year [2021 2022] and testing on year 2023\n",
      "AUC score: 0.6666346383640175\n",
      "Accuracy score: 0.13414634146341464\n",
      "F1 score: 0.11168250648419448\n",
      "training on year [2022 2023] and testing on year 2024\n",
      "AUC score: 0.6868242457899746\n",
      "Accuracy score: 0.14606741573033707\n",
      "F1 score: 0.13862490505909356\n",
      "training on year [2023 2024] and testing on year 2025\n",
      "AUC score: 0.7157183196754695\n",
      "Accuracy score: 0.1487603305785124\n",
      "F1 score: 0.1293403067567638\n",
      "training on year [2024 2025]\n"
     ]
    },
    {
     "name": "stderr",
     "output_type": "stream",
     "text": [
      "[I 2025-08-13 16:25:20,942] Trial 43 finished with value: 0.6886933194281012 and parameters: {'max_depth': 9, 'learning_rate': 0.03575994348043766, 'n_estimators': 647, 'subsample': 0.5623599194271626, 'colsample_bytree': 0.9102289114450824, 'min_child_weight': 1, 'gamma': 4.033534600049016}. Best is trial 41 with value: 0.6947581871761493.\n"
     ]
    },
    {
     "name": "stdout",
     "output_type": "stream",
     "text": [
      "training on year [2018 2019] and testing on year 2020\n",
      "AUC score: 0.6823857891845633\n",
      "Accuracy score: 0.12307692307692308\n",
      "F1 score: 0.11738925643778261\n",
      "training on year [2019 2020] and testing on year 2021\n",
      "AUC score: 0.6895441735612\n",
      "Accuracy score: 0.1179245283018868\n",
      "F1 score: 0.09870264195022985\n",
      "training on year [2020 2021] and testing on year 2022\n",
      "AUC score: 0.7002854102678552\n",
      "Accuracy score: 0.12686567164179105\n",
      "F1 score: 0.11434260415055111\n",
      "training on year [2021 2022] and testing on year 2023\n",
      "AUC score: 0.6694431637895266\n",
      "Accuracy score: 0.13170731707317074\n",
      "F1 score: 0.11312944865324637\n",
      "training on year [2022 2023] and testing on year 2024\n",
      "AUC score: 0.6987104631435012\n",
      "Accuracy score: 0.12134831460674157\n",
      "F1 score: 0.10996852691823052\n",
      "training on year [2023 2024] and testing on year 2025\n",
      "AUC score: 0.7213492054177768\n",
      "Accuracy score: 0.1487603305785124\n",
      "F1 score: 0.13246845474867022\n",
      "training on year [2024 2025]\n"
     ]
    },
    {
     "name": "stderr",
     "output_type": "stream",
     "text": [
      "[I 2025-08-13 16:25:38,688] Trial 44 finished with value: 0.6936197008940704 and parameters: {'max_depth': 8, 'learning_rate': 0.02972360570362846, 'n_estimators': 801, 'subsample': 0.50291279410332, 'colsample_bytree': 0.9783803272987668, 'min_child_weight': 2, 'gamma': 3.160665987501008}. Best is trial 41 with value: 0.6947581871761493.\n"
     ]
    },
    {
     "name": "stdout",
     "output_type": "stream",
     "text": [
      "training on year [2018 2019] and testing on year 2020\n",
      "AUC score: 0.6859097358414938\n",
      "Accuracy score: 0.11384615384615385\n",
      "F1 score: 0.1020926221071266\n",
      "training on year [2019 2020] and testing on year 2021\n",
      "AUC score: 0.678635096539281\n",
      "Accuracy score: 0.10377358490566038\n",
      "F1 score: 0.08091258610348231\n",
      "training on year [2020 2021] and testing on year 2022\n",
      "AUC score: 0.7037113321425371\n",
      "Accuracy score: 0.11442786069651742\n",
      "F1 score: 0.09266134824616531\n",
      "training on year [2021 2022] and testing on year 2023\n",
      "AUC score: 0.6676346420602419\n",
      "Accuracy score: 0.15365853658536585\n",
      "F1 score: 0.13421472291816922\n",
      "training on year [2022 2023] and testing on year 2024\n",
      "AUC score: 0.6995781451716914\n",
      "Accuracy score: 0.12808988764044943\n",
      "F1 score: 0.10649204402231992\n",
      "training on year [2023 2024] and testing on year 2025\n",
      "AUC score: 0.7269324851395634\n",
      "Accuracy score: 0.14049586776859505\n",
      "F1 score: 0.12176246517870137\n",
      "training on year [2024 2025]\n"
     ]
    },
    {
     "name": "stderr",
     "output_type": "stream",
     "text": [
      "[I 2025-08-13 16:25:56,291] Trial 45 finished with value: 0.6937335728158015 and parameters: {'max_depth': 5, 'learning_rate': 0.010035510677013046, 'n_estimators': 660, 'subsample': 0.6200948373220244, 'colsample_bytree': 0.8949934238760267, 'min_child_weight': 3, 'gamma': 2.91655365461223}. Best is trial 41 with value: 0.6947581871761493.\n"
     ]
    },
    {
     "name": "stdout",
     "output_type": "stream",
     "text": [
      "training on year [2018 2019] and testing on year 2020\n",
      "AUC score: 0.6783980893356688\n",
      "Accuracy score: 0.09846153846153846\n",
      "F1 score: 0.08897019327494253\n",
      "training on year [2019 2020] and testing on year 2021\n",
      "AUC score: 0.6892116742733447\n",
      "Accuracy score: 0.12028301886792453\n",
      "F1 score: 0.09931040331684991\n",
      "training on year [2020 2021] and testing on year 2022\n",
      "AUC score: 0.698889825914807\n",
      "Accuracy score: 0.12437810945273632\n",
      "F1 score: 0.11375125968695518\n",
      "training on year [2021 2022] and testing on year 2023\n",
      "AUC score: 0.6677387376609001\n",
      "Accuracy score: 0.13658536585365855\n",
      "F1 score: 0.12263804777004109\n",
      "training on year [2022 2023] and testing on year 2024\n",
      "AUC score: 0.6973402262280349\n",
      "Accuracy score: 0.14831460674157304\n",
      "F1 score: 0.13915637394570368\n",
      "training on year [2023 2024] and testing on year 2025\n",
      "AUC score: 0.7161234870448764\n",
      "Accuracy score: 0.13636363636363635\n",
      "F1 score: 0.12285888157968647\n",
      "training on year [2024 2025]\n"
     ]
    },
    {
     "name": "stderr",
     "output_type": "stream",
     "text": [
      "[I 2025-08-13 16:26:22,644] Trial 46 finished with value: 0.6912836734096053 and parameters: {'max_depth': 6, 'learning_rate': 0.02344352534074025, 'n_estimators': 873, 'subsample': 0.5736145999795327, 'colsample_bytree': 0.927381918927806, 'min_child_weight': 1, 'gamma': 1.9770297671842898}. Best is trial 41 with value: 0.6947581871761493.\n"
     ]
    },
    {
     "name": "stdout",
     "output_type": "stream",
     "text": [
      "training on year [2018 2019] and testing on year 2020\n",
      "AUC score: 0.6696368027594263\n",
      "Accuracy score: 0.09230769230769231\n",
      "F1 score: 0.0878296018102342\n",
      "training on year [2019 2020] and testing on year 2021\n",
      "AUC score: 0.6849363399315332\n",
      "Accuracy score: 0.1179245283018868\n",
      "F1 score: 0.10638535357713413\n",
      "training on year [2020 2021] and testing on year 2022\n",
      "AUC score: 0.6903463095563415\n",
      "Accuracy score: 0.0945273631840796\n",
      "F1 score: 0.09044161086262058\n",
      "training on year [2021 2022] and testing on year 2023\n",
      "AUC score: 0.6676874507686558\n",
      "Accuracy score: 0.13170731707317074\n",
      "F1 score: 0.11814110300523674\n",
      "training on year [2022 2023] and testing on year 2024\n",
      "AUC score: 0.6936965960212649\n",
      "Accuracy score: 0.13707865168539327\n",
      "F1 score: 0.13025989542861638\n",
      "training on year [2023 2024] and testing on year 2025\n",
      "AUC score: 0.7080766755249677\n",
      "Accuracy score: 0.15289256198347106\n",
      "F1 score: 0.1397323839160245\n",
      "training on year [2024 2025]\n"
     ]
    },
    {
     "name": "stderr",
     "output_type": "stream",
     "text": [
      "[I 2025-08-13 16:26:37,928] Trial 47 finished with value: 0.6857300290936982 and parameters: {'max_depth': 5, 'learning_rate': 0.0615662960970767, 'n_estimators': 595, 'subsample': 0.6359985472044953, 'colsample_bytree': 0.8507922736424172, 'min_child_weight': 2, 'gamma': 1.6501658687159666}. Best is trial 41 with value: 0.6947581871761493.\n"
     ]
    },
    {
     "name": "stdout",
     "output_type": "stream",
     "text": [
      "training on year [2018 2019] and testing on year 2020\n",
      "AUC score: 0.6844675521562439\n",
      "Accuracy score: 0.09846153846153846\n",
      "F1 score: 0.09244789134982204\n",
      "training on year [2019 2020] and testing on year 2021\n",
      "AUC score: 0.6816348889805586\n",
      "Accuracy score: 0.09669811320754718\n",
      "F1 score: 0.07738944751362516\n",
      "training on year [2020 2021] and testing on year 2022\n",
      "AUC score: 0.7051190861167839\n",
      "Accuracy score: 0.11194029850746269\n",
      "F1 score: 0.0938912460753331\n",
      "training on year [2021 2022] and testing on year 2023\n",
      "AUC score: 0.6677888328905761\n",
      "Accuracy score: 0.14146341463414633\n",
      "F1 score: 0.12438007591592289\n",
      "training on year [2022 2023] and testing on year 2024\n",
      "AUC score: 0.6982247787162148\n",
      "Accuracy score: 0.11910112359550562\n",
      "F1 score: 0.09797840787972949\n",
      "training on year [2023 2024] and testing on year 2025\n",
      "AUC score: 0.7238474229446257\n",
      "Accuracy score: 0.15702479338842976\n",
      "F1 score: 0.14088896333539563\n",
      "training on year [2024 2025]\n"
     ]
    },
    {
     "name": "stderr",
     "output_type": "stream",
     "text": [
      "[I 2025-08-13 16:26:52,988] Trial 48 finished with value: 0.6935137603008338 and parameters: {'max_depth': 6, 'learning_rate': 0.02776230908592594, 'n_estimators': 757, 'subsample': 0.5252793224865259, 'colsample_bytree': 0.6119522985390781, 'min_child_weight': 3, 'gamma': 3.332892933238031}. Best is trial 41 with value: 0.6947581871761493.\n"
     ]
    },
    {
     "name": "stdout",
     "output_type": "stream",
     "text": [
      "training on year [2018 2019] and testing on year 2020\n",
      "AUC score: 0.6842873901539377\n",
      "Accuracy score: 0.12923076923076923\n",
      "F1 score: 0.10828060575377398\n",
      "training on year [2019 2020] and testing on year 2021\n",
      "AUC score: 0.6724478455454633\n",
      "Accuracy score: 0.10613207547169812\n",
      "F1 score: 0.07654894388691527\n",
      "training on year [2020 2021] and testing on year 2022\n",
      "AUC score: 0.6819966680551608\n",
      "Accuracy score: 0.10945273631840796\n",
      "F1 score: 0.07281464698565959\n",
      "training on year [2021 2022] and testing on year 2023\n",
      "AUC score: 0.6558035402508929\n",
      "Accuracy score: 0.12439024390243902\n",
      "F1 score: 0.08092597215205759\n",
      "training on year [2022 2023] and testing on year 2024\n",
      "AUC score: 0.7163188848463639\n",
      "Accuracy score: 0.11910112359550562\n",
      "F1 score: 0.08871611841671478\n",
      "training on year [2023 2024] and testing on year 2025\n",
      "AUC score: 0.7077929534906007\n",
      "Accuracy score: 0.128099173553719\n",
      "F1 score: 0.08598901001748475\n",
      "training on year [2024 2025]\n"
     ]
    },
    {
     "name": "stderr",
     "output_type": "stream",
     "text": [
      "[I 2025-08-13 16:27:06,967] Trial 49 finished with value: 0.6864412137237365 and parameters: {'max_depth': 8, 'learning_rate': 0.03437159048791889, 'n_estimators': 725, 'subsample': 0.5996789482090095, 'colsample_bytree': 0.8195367504247779, 'min_child_weight': 9, 'gamma': 2.794200117062953}. Best is trial 41 with value: 0.6947581871761493.\n"
     ]
    },
    {
     "name": "stdout",
     "output_type": "stream",
     "text": [
      "training on year [2018 2019] and testing on year 2020\n",
      "AUC score: 0.6775295072375105\n",
      "Accuracy score: 0.11692307692307692\n",
      "F1 score: 0.11125972860975714\n",
      "training on year [2019 2020] and testing on year 2021\n",
      "AUC score: 0.686806734227283\n",
      "Accuracy score: 0.11084905660377359\n",
      "F1 score: 0.09227081524561923\n",
      "training on year [2020 2021] and testing on year 2022\n",
      "AUC score: 0.6964885496915548\n",
      "Accuracy score: 0.12189054726368159\n",
      "F1 score: 0.11253816570376954\n",
      "training on year [2021 2022] and testing on year 2023\n",
      "AUC score: 0.6740913563461144\n",
      "Accuracy score: 0.14146341463414633\n",
      "F1 score: 0.12267344666307549\n",
      "training on year [2022 2023] and testing on year 2024\n",
      "AUC score: 0.696463636588335\n",
      "Accuracy score: 0.1550561797752809\n",
      "F1 score: 0.14751635384543385\n",
      "training on year [2023 2024] and testing on year 2025\n",
      "AUC score: 0.7192518278478017\n",
      "Accuracy score: 0.17355371900826447\n",
      "F1 score: 0.15208894314854685\n",
      "training on year [2024 2025]\n"
     ]
    },
    {
     "name": "stderr",
     "output_type": "stream",
     "text": [
      "[I 2025-08-13 16:27:27,427] Trial 50 finished with value: 0.6917719353231 and parameters: {'max_depth': 4, 'learning_rate': 0.04299951231554239, 'n_estimators': 957, 'subsample': 0.5520788935927143, 'colsample_bytree': 0.7865627284137879, 'min_child_weight': 2, 'gamma': 2.472600728775822}. Best is trial 41 with value: 0.6947581871761493.\n"
     ]
    },
    {
     "name": "stdout",
     "output_type": "stream",
     "text": [
      "training on year [2018 2019] and testing on year 2020\n",
      "AUC score: 0.6834117830188762\n",
      "Accuracy score: 0.11076923076923077\n",
      "F1 score: 0.10259189712215795\n",
      "training on year [2019 2020] and testing on year 2021\n",
      "AUC score: 0.6907102420093385\n",
      "Accuracy score: 0.11556603773584906\n",
      "F1 score: 0.09174624771068686\n",
      "training on year [2020 2021] and testing on year 2022\n",
      "AUC score: 0.6991786457553731\n",
      "Accuracy score: 0.12437810945273632\n",
      "F1 score: 0.11127536043847235\n",
      "training on year [2021 2022] and testing on year 2023\n",
      "AUC score: 0.6689579020069614\n",
      "Accuracy score: 0.13414634146341464\n",
      "F1 score: 0.12024312148951945\n",
      "training on year [2022 2023] and testing on year 2024\n",
      "AUC score: 0.6982743815125353\n",
      "Accuracy score: 0.14831460674157304\n",
      "F1 score: 0.13896577607591679\n",
      "training on year [2023 2024] and testing on year 2025\n",
      "AUC score: 0.7241559119641068\n",
      "Accuracy score: 0.1446280991735537\n",
      "F1 score: 0.13203039955336926\n",
      "training on year [2024 2025]\n"
     ]
    },
    {
     "name": "stderr",
     "output_type": "stream",
     "text": [
      "[I 2025-08-13 16:27:39,452] Trial 51 finished with value: 0.6941148110445319 and parameters: {'max_depth': 7, 'learning_rate': 0.040153351093902445, 'n_estimators': 541, 'subsample': 0.5180987362536806, 'colsample_bytree': 0.8778991354283887, 'min_child_weight': 2, 'gamma': 2.96548044636625}. Best is trial 41 with value: 0.6947581871761493.\n"
     ]
    },
    {
     "name": "stdout",
     "output_type": "stream",
     "text": [
      "training on year [2018 2019] and testing on year 2020\n",
      "AUC score: 0.6826981753638733\n",
      "Accuracy score: 0.1076923076923077\n",
      "F1 score: 0.09994963962638381\n",
      "training on year [2019 2020] and testing on year 2021\n",
      "AUC score: 0.6934061686117687\n",
      "Accuracy score: 0.12735849056603774\n",
      "F1 score: 0.10999519349368572\n",
      "training on year [2020 2021] and testing on year 2022\n",
      "AUC score: 0.6973509281161667\n",
      "Accuracy score: 0.11194029850746269\n",
      "F1 score: 0.09657364976317528\n",
      "training on year [2021 2022] and testing on year 2023\n",
      "AUC score: 0.671222634925725\n",
      "Accuracy score: 0.12926829268292683\n",
      "F1 score: 0.11368527026076926\n",
      "training on year [2022 2023] and testing on year 2024\n",
      "AUC score: 0.6984958789303082\n",
      "Accuracy score: 0.13258426966292136\n",
      "F1 score: 0.12243701680628752\n",
      "training on year [2023 2024] and testing on year 2025\n",
      "AUC score: 0.7258256487440715\n",
      "Accuracy score: 0.15702479338842976\n",
      "F1 score: 0.13803688554421695\n",
      "training on year [2024 2025]\n"
     ]
    },
    {
     "name": "stderr",
     "output_type": "stream",
     "text": [
      "[I 2025-08-13 16:27:51,110] Trial 52 finished with value: 0.6948332391153188 and parameters: {'max_depth': 7, 'learning_rate': 0.05270551564162321, 'n_estimators': 523, 'subsample': 0.5021142866783189, 'colsample_bytree': 0.9041157621438533, 'min_child_weight': 2, 'gamma': 3.0301297968474463}. Best is trial 52 with value: 0.6948332391153188.\n"
     ]
    },
    {
     "name": "stdout",
     "output_type": "stream",
     "text": [
      "training on year [2018 2019] and testing on year 2020\n",
      "AUC score: 0.6830526531769784\n",
      "Accuracy score: 0.11384615384615385\n",
      "F1 score: 0.10676819345453932\n",
      "training on year [2019 2020] and testing on year 2021\n",
      "AUC score: 0.6913426100661716\n",
      "Accuracy score: 0.10613207547169812\n",
      "F1 score: 0.08854912346650318\n",
      "training on year [2020 2021] and testing on year 2022\n",
      "AUC score: 0.6963669226737348\n",
      "Accuracy score: 0.11940298507462686\n",
      "F1 score: 0.10752477898928033\n",
      "training on year [2021 2022] and testing on year 2023\n",
      "AUC score: 0.6723157524527327\n",
      "Accuracy score: 0.12926829268292683\n",
      "F1 score: 0.11101110065090272\n",
      "training on year [2022 2023] and testing on year 2024\n",
      "AUC score: 0.6920469594882943\n",
      "Accuracy score: 0.1393258426966292\n",
      "F1 score: 0.13268449369575197\n",
      "training on year [2023 2024] and testing on year 2025\n",
      "AUC score: 0.714995334868108\n",
      "Accuracy score: 0.1487603305785124\n",
      "F1 score: 0.1283522448608355\n",
      "training on year [2024 2025]\n"
     ]
    },
    {
     "name": "stderr",
     "output_type": "stream",
     "text": [
      "[I 2025-08-13 16:28:02,572] Trial 53 finished with value: 0.6916867054543365 and parameters: {'max_depth': 7, 'learning_rate': 0.05284165312946862, 'n_estimators': 541, 'subsample': 0.5003412338186725, 'colsample_bytree': 0.8740506712799511, 'min_child_weight': 1, 'gamma': 3.663928791437207}. Best is trial 52 with value: 0.6948332391153188.\n"
     ]
    },
    {
     "name": "stdout",
     "output_type": "stream",
     "text": [
      "training on year [2018 2019] and testing on year 2020\n",
      "AUC score: 0.6841668480021909\n",
      "Accuracy score: 0.1076923076923077\n",
      "F1 score: 0.09934899994239789\n",
      "training on year [2019 2020] and testing on year 2021\n",
      "AUC score: 0.6877045032475292\n",
      "Accuracy score: 0.12971698113207547\n",
      "F1 score: 0.10453672546867734\n",
      "training on year [2020 2021] and testing on year 2022\n",
      "AUC score: 0.6990934316443944\n",
      "Accuracy score: 0.11691542288557213\n",
      "F1 score: 0.10020000692658594\n",
      "training on year [2021 2022] and testing on year 2023\n",
      "AUC score: 0.6718008225675365\n",
      "Accuracy score: 0.12926829268292683\n",
      "F1 score: 0.11359777431967792\n",
      "training on year [2022 2023] and testing on year 2024\n",
      "AUC score: 0.696811683821013\n",
      "Accuracy score: 0.13707865168539327\n",
      "F1 score: 0.12855574704272715\n",
      "training on year [2023 2024] and testing on year 2025\n",
      "AUC score: 0.7245665392193097\n",
      "Accuracy score: 0.15702479338842976\n",
      "F1 score: 0.14474632365940607\n",
      "training on year [2024 2025]\n"
     ]
    },
    {
     "name": "stderr",
     "output_type": "stream",
     "text": [
      "[I 2025-08-13 16:28:12,847] Trial 54 finished with value: 0.6940239714169957 and parameters: {'max_depth': 7, 'learning_rate': 0.058327196902803566, 'n_estimators': 462, 'subsample': 0.5148406107401551, 'colsample_bytree': 0.9048472146500779, 'min_child_weight': 2, 'gamma': 3.0436155672099643}. Best is trial 52 with value: 0.6948332391153188.\n"
     ]
    },
    {
     "name": "stdout",
     "output_type": "stream",
     "text": [
      "training on year [2018 2019] and testing on year 2020\n",
      "AUC score: 0.6826391233058435\n",
      "Accuracy score: 0.12\n",
      "F1 score: 0.10949462557643606\n",
      "training on year [2019 2020] and testing on year 2021\n",
      "AUC score: 0.6909392672601385\n",
      "Accuracy score: 0.11556603773584906\n",
      "F1 score: 0.09337278268805227\n",
      "training on year [2020 2021] and testing on year 2022\n",
      "AUC score: 0.6978186907526556\n",
      "Accuracy score: 0.12437810945273632\n",
      "F1 score: 0.11559149712073302\n",
      "training on year [2021 2022] and testing on year 2023\n",
      "AUC score: 0.6696760008324161\n",
      "Accuracy score: 0.13414634146341464\n",
      "F1 score: 0.10970357472678824\n",
      "training on year [2022 2023] and testing on year 2024\n",
      "AUC score: 0.6921774008756061\n",
      "Accuracy score: 0.1348314606741573\n",
      "F1 score: 0.12403287097744894\n",
      "training on year [2023 2024] and testing on year 2025\n",
      "AUC score: 0.7194603596232\n",
      "Accuracy score: 0.1487603305785124\n",
      "F1 score: 0.13180257506460713\n",
      "training on year [2024 2025]\n"
     ]
    },
    {
     "name": "stderr",
     "output_type": "stream",
     "text": [
      "[I 2025-08-13 16:28:22,933] Trial 55 finished with value: 0.6921184737749765 and parameters: {'max_depth': 8, 'learning_rate': 0.07399593324114451, 'n_estimators': 472, 'subsample': 0.5461465137075905, 'colsample_bytree': 0.9456962352838862, 'min_child_weight': 2, 'gamma': 3.860533641033771}. Best is trial 52 with value: 0.6948332391153188.\n"
     ]
    },
    {
     "name": "stdout",
     "output_type": "stream",
     "text": [
      "training on year [2018 2019] and testing on year 2020\n",
      "AUC score: 0.6835469207812385\n",
      "Accuracy score: 0.11692307692307692\n",
      "F1 score: 0.11376204314470584\n",
      "training on year [2019 2020] and testing on year 2021\n",
      "AUC score: 0.6903129192933588\n",
      "Accuracy score: 0.11556603773584906\n",
      "F1 score: 0.09682121999563911\n",
      "training on year [2020 2021] and testing on year 2022\n",
      "AUC score: 0.6936652756527601\n",
      "Accuracy score: 0.12189054726368159\n",
      "F1 score: 0.10916069786380889\n",
      "training on year [2021 2022] and testing on year 2023\n",
      "AUC score: 0.6723544443799321\n",
      "Accuracy score: 0.13658536585365855\n",
      "F1 score: 0.11521505874476722\n",
      "training on year [2022 2023] and testing on year 2024\n",
      "AUC score: 0.693583595727175\n",
      "Accuracy score: 0.15730337078651685\n",
      "F1 score: 0.14947572471154463\n",
      "training on year [2023 2024] and testing on year 2025\n",
      "AUC score: 0.7169373391058148\n",
      "Accuracy score: 0.1446280991735537\n",
      "F1 score: 0.12946778276261858\n",
      "training on year [2024 2025]\n"
     ]
    },
    {
     "name": "stderr",
     "output_type": "stream",
     "text": [
      "[I 2025-08-13 16:28:34,644] Trial 56 finished with value: 0.6917334158233799 and parameters: {'max_depth': 8, 'learning_rate': 0.04686548751625787, 'n_estimators': 512, 'subsample': 0.5273481445316188, 'colsample_bytree': 0.9647313344467359, 'min_child_weight': 1, 'gamma': 3.3006624205305153}. Best is trial 52 with value: 0.6948332391153188.\n"
     ]
    },
    {
     "name": "stdout",
     "output_type": "stream",
     "text": [
      "training on year [2018 2019] and testing on year 2020\n",
      "AUC score: 0.6621579043626676\n",
      "Accuracy score: 0.10153846153846154\n",
      "F1 score: 0.0916218751798125\n",
      "training on year [2019 2020] and testing on year 2021\n",
      "AUC score: 0.6717098713872591\n",
      "Accuracy score: 0.12028301886792453\n",
      "F1 score: 0.10477437103577308\n",
      "training on year [2020 2021] and testing on year 2022\n",
      "AUC score: 0.6830292669140442\n",
      "Accuracy score: 0.0845771144278607\n",
      "F1 score: 0.07916645199626973\n",
      "training on year [2021 2022] and testing on year 2023\n",
      "AUC score: 0.6688925340216952\n",
      "Accuracy score: 0.16341463414634147\n",
      "F1 score: 0.15316653496639704\n",
      "training on year [2022 2023] and testing on year 2024\n",
      "AUC score: 0.6839964253132098\n",
      "Accuracy score: 0.14382022471910114\n",
      "F1 score: 0.13328546685216341\n",
      "training on year [2023 2024] and testing on year 2025\n",
      "AUC score: 0.7029598178081169\n",
      "Accuracy score: 0.1322314049586777\n",
      "F1 score: 0.1271137296848311\n",
      "training on year [2024 2025]\n"
     ]
    },
    {
     "name": "stderr",
     "output_type": "stream",
     "text": [
      "[I 2025-08-13 16:28:58,725] Trial 57 finished with value: 0.6787909699678322 and parameters: {'max_depth': 7, 'learning_rate': 0.03881627153703762, 'n_estimators': 350, 'subsample': 0.5723497532950271, 'colsample_bytree': 0.8318337136786146, 'min_child_weight': 2, 'gamma': 0.14694663166561384}. Best is trial 52 with value: 0.6948332391153188.\n"
     ]
    },
    {
     "name": "stdout",
     "output_type": "stream",
     "text": [
      "training on year [2018 2019] and testing on year 2020\n",
      "AUC score: 0.68469373857008\n",
      "Accuracy score: 0.11692307692307692\n",
      "F1 score: 0.10440672906424693\n",
      "training on year [2019 2020] and testing on year 2021\n",
      "AUC score: 0.6804443061699982\n",
      "Accuracy score: 0.10141509433962265\n",
      "F1 score: 0.08288348026907207\n",
      "training on year [2020 2021] and testing on year 2022\n",
      "AUC score: 0.702896406381666\n",
      "Accuracy score: 0.10696517412935323\n",
      "F1 score: 0.09192942743849858\n",
      "training on year [2021 2022] and testing on year 2023\n",
      "AUC score: 0.6662270687342406\n",
      "Accuracy score: 0.14634146341463414\n",
      "F1 score: 0.12499316995227211\n",
      "training on year [2022 2023] and testing on year 2024\n",
      "AUC score: 0.6967227513152723\n",
      "Accuracy score: 0.12359550561797752\n",
      "F1 score: 0.10359128830195673\n",
      "training on year [2023 2024] and testing on year 2025\n",
      "AUC score: 0.7243404046964529\n",
      "Accuracy score: 0.15289256198347106\n",
      "F1 score: 0.12990126145082453\n",
      "training on year [2024 2025]\n"
     ]
    },
    {
     "name": "stderr",
     "output_type": "stream",
     "text": [
      "[I 2025-08-13 16:29:11,260] Trial 58 finished with value: 0.6925541126446184 and parameters: {'max_depth': 7, 'learning_rate': 0.043207001669446875, 'n_estimators': 612, 'subsample': 0.5194129040573123, 'colsample_bytree': 0.8070756782425256, 'min_child_weight': 3, 'gamma': 3.5420981509495446}. Best is trial 52 with value: 0.6948332391153188.\n"
     ]
    },
    {
     "name": "stdout",
     "output_type": "stream",
     "text": [
      "training on year [2018 2019] and testing on year 2020\n",
      "AUC score: 0.6819497689930968\n",
      "Accuracy score: 0.09538461538461539\n",
      "F1 score: 0.09051789925808525\n",
      "training on year [2019 2020] and testing on year 2021\n",
      "AUC score: 0.6892189645174656\n",
      "Accuracy score: 0.11084905660377359\n",
      "F1 score: 0.09556408459992008\n",
      "training on year [2020 2021] and testing on year 2022\n",
      "AUC score: 0.6966279847915973\n",
      "Accuracy score: 0.12935323383084577\n",
      "F1 score: 0.11412298564807856\n",
      "training on year [2021 2022] and testing on year 2023\n",
      "AUC score: 0.6725149357282458\n",
      "Accuracy score: 0.13414634146341464\n",
      "F1 score: 0.12238168057001633\n",
      "training on year [2022 2023] and testing on year 2024\n",
      "AUC score: 0.6956838425731668\n",
      "Accuracy score: 0.15056179775280898\n",
      "F1 score: 0.14307068305320625\n",
      "training on year [2023 2024] and testing on year 2025\n",
      "AUC score: 0.720107161891776\n",
      "Accuracy score: 0.1446280991735537\n",
      "F1 score: 0.12887299912509614\n",
      "training on year [2024 2025]\n"
     ]
    },
    {
     "name": "stderr",
     "output_type": "stream",
     "text": [
      "[I 2025-08-13 16:29:25,018] Trial 59 finished with value: 0.6926837764158913 and parameters: {'max_depth': 6, 'learning_rate': 0.03340284232119643, 'n_estimators': 556, 'subsample': 0.5563729478275574, 'colsample_bytree': 0.8579399439472254, 'min_child_weight': 1, 'gamma': 2.327885893276731}. Best is trial 52 with value: 0.6948332391153188.\n"
     ]
    },
    {
     "name": "stdout",
     "output_type": "stream",
     "text": [
      "training on year [2018 2019] and testing on year 2020\n",
      "AUC score: 0.6807418420347668\n",
      "Accuracy score: 0.12\n",
      "F1 score: 0.1165344760312027\n",
      "training on year [2019 2020] and testing on year 2021\n",
      "AUC score: 0.6885717319941582\n",
      "Accuracy score: 0.12264150943396226\n",
      "F1 score: 0.10736125039275272\n",
      "training on year [2020 2021] and testing on year 2022\n",
      "AUC score: 0.6955647286972462\n",
      "Accuracy score: 0.11691542288557213\n",
      "F1 score: 0.10721099575924926\n",
      "training on year [2021 2022] and testing on year 2023\n",
      "AUC score: 0.6726121094111395\n",
      "Accuracy score: 0.12682926829268293\n",
      "F1 score: 0.10983032338285598\n",
      "training on year [2022 2023] and testing on year 2024\n",
      "AUC score: 0.6950457619066093\n",
      "Accuracy score: 0.15730337078651685\n",
      "F1 score: 0.1483070167040024\n",
      "training on year [2023 2024] and testing on year 2025\n",
      "AUC score: 0.7231400271064515\n",
      "Accuracy score: 0.1446280991735537\n",
      "F1 score: 0.12982302467121104\n",
      "training on year [2024 2025]\n"
     ]
    },
    {
     "name": "stderr",
     "output_type": "stream",
     "text": [
      "[I 2025-08-13 16:29:35,079] Trial 60 finished with value: 0.6926127001917286 and parameters: {'max_depth': 8, 'learning_rate': 0.05022382596324083, 'n_estimators': 434, 'subsample': 0.5867982299610075, 'colsample_bytree': 0.8880266016056013, 'min_child_weight': 2, 'gamma': 2.600055098611605}. Best is trial 52 with value: 0.6948332391153188.\n"
     ]
    },
    {
     "name": "stdout",
     "output_type": "stream",
     "text": [
      "training on year [2018 2019] and testing on year 2020\n",
      "AUC score: 0.6894358789461461\n",
      "Accuracy score: 0.12\n",
      "F1 score: 0.10923019905668058\n",
      "training on year [2019 2020] and testing on year 2021\n",
      "AUC score: 0.6812107209069056\n",
      "Accuracy score: 0.10141509433962265\n",
      "F1 score: 0.07848248476565046\n",
      "training on year [2020 2021] and testing on year 2022\n",
      "AUC score: 0.6997942065270149\n",
      "Accuracy score: 0.10696517412935323\n",
      "F1 score: 0.08774454087080802\n",
      "training on year [2021 2022] and testing on year 2023\n",
      "AUC score: 0.6657712731980554\n",
      "Accuracy score: 0.14390243902439023\n",
      "F1 score: 0.12010070997559728\n",
      "training on year [2022 2023] and testing on year 2024\n",
      "AUC score: 0.7005677914100613\n",
      "Accuracy score: 0.1348314606741573\n",
      "F1 score: 0.11515607855540197\n",
      "training on year [2023 2024] and testing on year 2025\n",
      "AUC score: 0.7245852212020056\n",
      "Accuracy score: 0.13636363636363635\n",
      "F1 score: 0.11989027015764982\n",
      "training on year [2024 2025]\n"
     ]
    },
    {
     "name": "stderr",
     "output_type": "stream",
     "text": [
      "[I 2025-08-13 16:29:50,926] Trial 61 finished with value: 0.6935608486983648 and parameters: {'max_depth': 9, 'learning_rate': 0.016416884678001033, 'n_estimators': 681, 'subsample': 0.6468501035042523, 'colsample_bytree': 0.9200491783126039, 'min_child_weight': 3, 'gamma': 2.969238504984609}. Best is trial 52 with value: 0.6948332391153188.\n"
     ]
    },
    {
     "name": "stdout",
     "output_type": "stream",
     "text": [
      "training on year [2018 2019] and testing on year 2020\n",
      "AUC score: 0.6860393054269227\n",
      "Accuracy score: 0.12\n",
      "F1 score: 0.1092599275180854\n",
      "training on year [2019 2020] and testing on year 2021\n",
      "AUC score: 0.6784940824121554\n",
      "Accuracy score: 0.09433962264150944\n",
      "F1 score: 0.07486946479732443\n",
      "training on year [2020 2021] and testing on year 2022\n",
      "AUC score: 0.7049033588955236\n",
      "Accuracy score: 0.10199004975124377\n",
      "F1 score: 0.08223034587762626\n",
      "training on year [2021 2022] and testing on year 2023\n",
      "AUC score: 0.6669216603676033\n",
      "Accuracy score: 0.13658536585365855\n",
      "F1 score: 0.116648613711047\n",
      "training on year [2022 2023] and testing on year 2024\n",
      "AUC score: 0.7040304170176782\n",
      "Accuracy score: 0.11235955056179775\n",
      "F1 score: 0.09920550274760467\n",
      "training on year [2023 2024] and testing on year 2025\n",
      "AUC score: 0.729561090814401\n",
      "Accuracy score: 0.16115702479338842\n",
      "F1 score: 0.1443965492320003\n",
      "training on year [2024 2025]\n"
     ]
    },
    {
     "name": "stderr",
     "output_type": "stream",
     "text": [
      "[I 2025-08-13 16:30:03,885] Trial 62 finished with value: 0.6949916524890473 and parameters: {'max_depth': 6, 'learning_rate': 0.022866553166960336, 'n_estimators': 551, 'subsample': 0.5402544862409531, 'colsample_bytree': 0.9390022833803895, 'min_child_weight': 3, 'gamma': 2.7633626000711904}. Best is trial 62 with value: 0.6949916524890473.\n"
     ]
    },
    {
     "name": "stdout",
     "output_type": "stream",
     "text": [
      "training on year [2018 2019] and testing on year 2020\n",
      "AUC score: 0.6814403013846259\n",
      "Accuracy score: 0.11692307692307692\n",
      "F1 score: 0.11246990161221246\n",
      "training on year [2019 2020] and testing on year 2021\n",
      "AUC score: 0.6908263835572361\n",
      "Accuracy score: 0.11084905660377359\n",
      "F1 score: 0.086857079269912\n",
      "training on year [2020 2021] and testing on year 2022\n",
      "AUC score: 0.6998623409336155\n",
      "Accuracy score: 0.10696517412935323\n",
      "F1 score: 0.09814051513758922\n",
      "training on year [2021 2022] and testing on year 2023\n",
      "AUC score: 0.6698572678217593\n",
      "Accuracy score: 0.12195121951219512\n",
      "F1 score: 0.10569719483608471\n",
      "training on year [2022 2023] and testing on year 2024\n",
      "AUC score: 0.69647416802622\n",
      "Accuracy score: 0.1348314606741573\n",
      "F1 score: 0.12049933224802055\n",
      "training on year [2023 2024] and testing on year 2025\n",
      "AUC score: 0.7231086346465264\n",
      "Accuracy score: 0.15702479338842976\n",
      "F1 score: 0.14318965704705539\n",
      "training on year [2024 2025]\n"
     ]
    },
    {
     "name": "stderr",
     "output_type": "stream",
     "text": [
      "[I 2025-08-13 16:30:16,621] Trial 63 finished with value: 0.6935948493949972 and parameters: {'max_depth': 6, 'learning_rate': 0.028301486599342868, 'n_estimators': 548, 'subsample': 0.5346641025705104, 'colsample_bytree': 0.941797279016926, 'min_child_weight': 2, 'gamma': 3.1174953675870953}. Best is trial 62 with value: 0.6949916524890473.\n"
     ]
    },
    {
     "name": "stdout",
     "output_type": "stream",
     "text": [
      "training on year [2018 2019] and testing on year 2020\n",
      "AUC score: 0.68292332677455\n",
      "Accuracy score: 0.11692307692307692\n",
      "F1 score: 0.10456808219451506\n",
      "training on year [2019 2020] and testing on year 2021\n",
      "AUC score: 0.6799567001274602\n",
      "Accuracy score: 0.09905660377358491\n",
      "F1 score: 0.0766916139909856\n",
      "training on year [2020 2021] and testing on year 2022\n",
      "AUC score: 0.7013213056320655\n",
      "Accuracy score: 0.10696517412935323\n",
      "F1 score: 0.08841610581042302\n",
      "training on year [2021 2022] and testing on year 2023\n",
      "AUC score: 0.6674181094146701\n",
      "Accuracy score: 0.14390243902439023\n",
      "F1 score: 0.12456815653920342\n",
      "training on year [2022 2023] and testing on year 2024\n",
      "AUC score: 0.7035889299912107\n",
      "Accuracy score: 0.12808988764044943\n",
      "F1 score: 0.11363687312284936\n",
      "training on year [2023 2024] and testing on year 2025\n",
      "AUC score: 0.7274739317088859\n",
      "Accuracy score: 0.15289256198347106\n",
      "F1 score: 0.1359964031052531\n",
      "training on year [2024 2025]\n"
     ]
    },
    {
     "name": "stderr",
     "output_type": "stream",
     "text": [
      "[I 2025-08-13 16:30:28,316] Trial 64 finished with value: 0.6937803839414736 and parameters: {'max_depth': 7, 'learning_rate': 0.023943253704017998, 'n_estimators': 492, 'subsample': 0.5146688525008882, 'colsample_bytree': 0.9031673009914013, 'min_child_weight': 3, 'gamma': 2.675952755943308}. Best is trial 62 with value: 0.6949916524890473.\n"
     ]
    },
    {
     "name": "stdout",
     "output_type": "stream",
     "text": [
      "training on year [2018 2019] and testing on year 2020\n",
      "AUC score: 0.6801688419951302\n",
      "Accuracy score: 0.12307692307692308\n",
      "F1 score: 0.09879505409041406\n",
      "training on year [2019 2020] and testing on year 2021\n",
      "AUC score: 0.6804292806574006\n",
      "Accuracy score: 0.10141509433962265\n",
      "F1 score: 0.07765241023710467\n",
      "training on year [2020 2021] and testing on year 2022\n",
      "AUC score: 0.6993463953502832\n",
      "Accuracy score: 0.11691542288557213\n",
      "F1 score: 0.09637863835023171\n",
      "training on year [2021 2022] and testing on year 2023\n",
      "AUC score: 0.6626340117345559\n",
      "Accuracy score: 0.15121951219512195\n",
      "F1 score: 0.1294983786633598\n",
      "training on year [2022 2023] and testing on year 2024\n",
      "AUC score: 0.7037041009789224\n",
      "Accuracy score: 0.13258426966292136\n",
      "F1 score: 0.11744711906621895\n",
      "training on year [2023 2024] and testing on year 2025\n",
      "AUC score: 0.7250763874542405\n",
      "Accuracy score: 0.17355371900826447\n",
      "F1 score: 0.15691690219735885\n",
      "training on year [2024 2025]\n"
     ]
    },
    {
     "name": "stderr",
     "output_type": "stream",
     "text": [
      "[I 2025-08-13 16:30:42,510] Trial 65 finished with value: 0.6918931696950888 and parameters: {'max_depth': 6, 'learning_rate': 0.03221060853143523, 'n_estimators': 614, 'subsample': 0.5487102841252063, 'colsample_bytree': 0.9861221676945269, 'min_child_weight': 4, 'gamma': 2.5034462355325005}. Best is trial 62 with value: 0.6949916524890473.\n"
     ]
    },
    {
     "name": "stdout",
     "output_type": "stream",
     "text": [
      "training on year [2018 2019] and testing on year 2020\n",
      "AUC score: 0.6848526661525869\n",
      "Accuracy score: 0.11384615384615385\n",
      "F1 score: 0.10903139052249128\n",
      "training on year [2019 2020] and testing on year 2021\n",
      "AUC score: 0.6850880665519508\n",
      "Accuracy score: 0.10849056603773585\n",
      "F1 score: 0.08860024277209341\n",
      "training on year [2020 2021] and testing on year 2022\n",
      "AUC score: 0.6929723530834717\n",
      "Accuracy score: 0.12686567164179105\n",
      "F1 score: 0.1185833181779733\n",
      "training on year [2021 2022] and testing on year 2023\n",
      "AUC score: 0.6682910762770363\n",
      "Accuracy score: 0.12195121951219512\n",
      "F1 score: 0.10339290881969701\n",
      "training on year [2022 2023] and testing on year 2024\n",
      "AUC score: 0.6966533545455114\n",
      "Accuracy score: 0.14157303370786517\n",
      "F1 score: 0.13298680367452134\n",
      "training on year [2023 2024] and testing on year 2025\n",
      "AUC score: 0.7189077000079483\n",
      "Accuracy score: 0.15289256198347106\n",
      "F1 score: 0.13443664722845444\n",
      "training on year [2024 2025]\n"
     ]
    },
    {
     "name": "stderr",
     "output_type": "stream",
     "text": [
      "[I 2025-08-13 16:30:55,513] Trial 66 finished with value: 0.6911275361030843 and parameters: {'max_depth': 7, 'learning_rate': 0.04038847830717984, 'n_estimators': 587, 'subsample': 0.5671488932452853, 'colsample_bytree': 0.9480955674567111, 'min_child_weight': 2, 'gamma': 3.3222453265238125}. Best is trial 62 with value: 0.6949916524890473.\n"
     ]
    },
    {
     "name": "stdout",
     "output_type": "stream",
     "text": [
      "training on year [2018 2019] and testing on year 2020\n",
      "AUC score: 0.6807445667430769\n",
      "Accuracy score: 0.11692307692307692\n",
      "F1 score: 0.11130710079282315\n",
      "training on year [2019 2020] and testing on year 2021\n",
      "AUC score: 0.6930915417854562\n",
      "Accuracy score: 0.11556603773584906\n",
      "F1 score: 0.09892867083119487\n",
      "training on year [2020 2021] and testing on year 2022\n",
      "AUC score: 0.6981761291451731\n",
      "Accuracy score: 0.11691542288557213\n",
      "F1 score: 0.09936635103952512\n",
      "training on year [2021 2022] and testing on year 2023\n",
      "AUC score: 0.6726138467922369\n",
      "Accuracy score: 0.13170731707317074\n",
      "F1 score: 0.1141746296543642\n",
      "training on year [2022 2023] and testing on year 2024\n",
      "AUC score: 0.69164117398809\n",
      "Accuracy score: 0.14157303370786517\n",
      "F1 score: 0.13147343853830443\n",
      "training on year [2023 2024] and testing on year 2025\n",
      "AUC score: 0.7223343447651885\n",
      "Accuracy score: 0.1487603305785124\n",
      "F1 score: 0.13057218618935493\n",
      "training on year [2024 2025]\n"
     ]
    },
    {
     "name": "stderr",
     "output_type": "stream",
     "text": [
      "[I 2025-08-13 16:31:07,807] Trial 67 finished with value: 0.6931002672032037 and parameters: {'max_depth': 7, 'learning_rate': 0.03641317233530321, 'n_estimators': 508, 'subsample': 0.5042681116059257, 'colsample_bytree': 0.9593597808601217, 'min_child_weight': 1, 'gamma': 2.793565964720912}. Best is trial 62 with value: 0.6949916524890473.\n"
     ]
    },
    {
     "name": "stdout",
     "output_type": "stream",
     "text": [
      "training on year [2018 2019] and testing on year 2020\n",
      "AUC score: 0.6843328582721419\n",
      "Accuracy score: 0.1076923076923077\n",
      "F1 score: 0.10343001032080269\n",
      "training on year [2019 2020] and testing on year 2021\n",
      "AUC score: 0.6852122669448276\n",
      "Accuracy score: 0.10141509433962265\n",
      "F1 score: 0.08115616264451654\n",
      "training on year [2020 2021] and testing on year 2022\n",
      "AUC score: 0.7019756616738918\n",
      "Accuracy score: 0.11691542288557213\n",
      "F1 score: 0.09897467897272681\n",
      "training on year [2021 2022] and testing on year 2023\n",
      "AUC score: 0.6673133031224625\n",
      "Accuracy score: 0.15121951219512195\n",
      "F1 score: 0.12950751236998714\n",
      "training on year [2022 2023] and testing on year 2024\n",
      "AUC score: 0.7010927333968896\n",
      "Accuracy score: 0.11910112359550562\n",
      "F1 score: 0.10580040911770668\n",
      "training on year [2023 2024] and testing on year 2025\n",
      "AUC score: 0.7294442371601572\n",
      "Accuracy score: 0.15702479338842976\n",
      "F1 score: 0.1393102820180178\n",
      "training on year [2024 2025]\n"
     ]
    },
    {
     "name": "stderr",
     "output_type": "stream",
     "text": [
      "[I 2025-08-13 16:31:18,426] Trial 68 finished with value: 0.6948951767617283 and parameters: {'max_depth': 6, 'learning_rate': 0.01923979797440529, 'n_estimators': 449, 'subsample': 0.5407567006204751, 'colsample_bytree': 0.5394260583628929, 'min_child_weight': 3, 'gamma': 2.259473008625025}. Best is trial 62 with value: 0.6949916524890473.\n"
     ]
    },
    {
     "name": "stdout",
     "output_type": "stream",
     "text": [
      "training on year [2018 2019] and testing on year 2020\n",
      "AUC score: 0.686176819312698\n",
      "Accuracy score: 0.12923076923076923\n",
      "F1 score: 0.11172762020839987\n",
      "training on year [2019 2020] and testing on year 2021\n",
      "AUC score: 0.6825007186260208\n",
      "Accuracy score: 0.08962264150943396\n",
      "F1 score: 0.06958598770453821\n",
      "training on year [2020 2021] and testing on year 2022\n",
      "AUC score: 0.700683782498366\n",
      "Accuracy score: 0.10696517412935323\n",
      "F1 score: 0.08559055267753159\n",
      "training on year [2021 2022] and testing on year 2023\n",
      "AUC score: 0.6600739598969741\n",
      "Accuracy score: 0.15365853658536585\n",
      "F1 score: 0.12113806284364234\n",
      "training on year [2022 2023] and testing on year 2024\n",
      "AUC score: 0.7082593618743313\n",
      "Accuracy score: 0.11685393258426967\n",
      "F1 score: 0.09605748449660684\n",
      "training on year [2023 2024] and testing on year 2025\n",
      "AUC score: 0.7191155434054052\n",
      "Accuracy score: 0.1487603305785124\n",
      "F1 score: 0.12166424401876949\n",
      "training on year [2024 2025]\n"
     ]
    },
    {
     "name": "stderr",
     "output_type": "stream",
     "text": [
      "[I 2025-08-13 16:31:25,366] Trial 69 finished with value: 0.6928016976022993 and parameters: {'max_depth': 6, 'learning_rate': 0.020995941634314227, 'n_estimators': 266, 'subsample': 0.5398002560571372, 'colsample_bytree': 0.54023846357469, 'min_child_weight': 4, 'gamma': 1.9744478747289738}. Best is trial 62 with value: 0.6949916524890473.\n"
     ]
    },
    {
     "name": "stdout",
     "output_type": "stream",
     "text": [
      "training on year [2018 2019] and testing on year 2020\n",
      "AUC score: 0.6877456600148528\n",
      "Accuracy score: 0.11384615384615385\n",
      "F1 score: 0.09709349856062578\n",
      "training on year [2019 2020] and testing on year 2021\n",
      "AUC score: 0.6867757072222624\n",
      "Accuracy score: 0.10849056603773585\n",
      "F1 score: 0.08195125597129849\n",
      "training on year [2020 2021] and testing on year 2022\n",
      "AUC score: 0.6959902930984759\n",
      "Accuracy score: 0.11442786069651742\n",
      "F1 score: 0.10041808687930978\n",
      "training on year [2021 2022] and testing on year 2023\n",
      "AUC score: 0.6664461922171137\n",
      "Accuracy score: 0.12682926829268293\n",
      "F1 score: 0.10678168486011692\n",
      "training on year [2022 2023] and testing on year 2024\n",
      "AUC score: 0.6923413838478641\n",
      "Accuracy score: 0.1550561797752809\n",
      "F1 score: 0.13487555179845606\n",
      "training on year [2023 2024] and testing on year 2025\n",
      "AUC score: 0.7204050755884562\n",
      "Accuracy score: 0.11983471074380166\n",
      "F1 score: 0.10778616742396217\n",
      "training on year [2024 2025]\n"
     ]
    },
    {
     "name": "stderr",
     "output_type": "stream",
     "text": [
      "[I 2025-08-13 16:31:35,319] Trial 70 finished with value: 0.6916173853315043 and parameters: {'max_depth': 5, 'learning_rate': 0.012447321506773523, 'n_estimators': 369, 'subsample': 0.8607143065923231, 'colsample_bytree': 0.6827107114711848, 'min_child_weight': 3, 'gamma': 2.307903812292483}. Best is trial 62 with value: 0.6949916524890473.\n"
     ]
    },
    {
     "name": "stdout",
     "output_type": "stream",
     "text": [
      "training on year [2018 2019] and testing on year 2020\n",
      "AUC score: 0.6861480477152282\n",
      "Accuracy score: 0.1076923076923077\n",
      "F1 score: 0.09399417207945877\n",
      "training on year [2019 2020] and testing on year 2021\n",
      "AUC score: 0.6924117693749562\n",
      "Accuracy score: 0.10613207547169812\n",
      "F1 score: 0.08340685524537297\n",
      "training on year [2020 2021] and testing on year 2022\n",
      "AUC score: 0.7009533286539431\n",
      "Accuracy score: 0.11691542288557213\n",
      "F1 score: 0.10133899231913712\n",
      "training on year [2021 2022] and testing on year 2023\n",
      "AUC score: 0.6689646739218633\n",
      "Accuracy score: 0.13658536585365855\n",
      "F1 score: 0.11242390991618995\n",
      "training on year [2022 2023] and testing on year 2024\n",
      "AUC score: 0.6992857791757332\n",
      "Accuracy score: 0.1303370786516854\n",
      "F1 score: 0.1153572991759831\n",
      "training on year [2023 2024] and testing on year 2025\n",
      "AUC score: 0.7264502921952847\n",
      "Accuracy score: 0.1446280991735537\n",
      "F1 score: 0.13290238469664306\n",
      "training on year [2024 2025]\n"
     ]
    },
    {
     "name": "stderr",
     "output_type": "stream",
     "text": [
      "[I 2025-08-13 16:31:44,730] Trial 71 finished with value: 0.6957023151728348 and parameters: {'max_depth': 6, 'learning_rate': 0.025211531751670842, 'n_estimators': 438, 'subsample': 0.5220512845662524, 'colsample_bytree': 0.5620461508182382, 'min_child_weight': 2, 'gamma': 3.003360919177068}. Best is trial 71 with value: 0.6957023151728348.\n"
     ]
    },
    {
     "name": "stdout",
     "output_type": "stream",
     "text": [
      "training on year [2018 2019] and testing on year 2020\n",
      "AUC score: 0.6858917269310707\n",
      "Accuracy score: 0.10153846153846154\n",
      "F1 score: 0.08737965680038069\n",
      "training on year [2019 2020] and testing on year 2021\n",
      "AUC score: 0.6808133978910218\n",
      "Accuracy score: 0.09433962264150944\n",
      "F1 score: 0.07483214283981948\n",
      "training on year [2020 2021] and testing on year 2022\n",
      "AUC score: 0.7032074763249191\n",
      "Accuracy score: 0.11442786069651742\n",
      "F1 score: 0.08883430712154132\n",
      "training on year [2021 2022] and testing on year 2023\n",
      "AUC score: 0.667611448719782\n",
      "Accuracy score: 0.14634146341463414\n",
      "F1 score: 0.1198571139533486\n",
      "training on year [2022 2023] and testing on year 2024\n",
      "AUC score: 0.6989138575450352\n",
      "Accuracy score: 0.12359550561797752\n",
      "F1 score: 0.10036445946056591\n",
      "training on year [2023 2024] and testing on year 2025\n",
      "AUC score: 0.7261599157157074\n",
      "Accuracy score: 0.17768595041322313\n",
      "F1 score: 0.15993531281841536\n",
      "training on year [2024 2025]\n"
     ]
    },
    {
     "name": "stderr",
     "output_type": "stream",
     "text": [
      "[I 2025-08-13 16:31:53,598] Trial 72 finished with value: 0.6937663038545895 and parameters: {'max_depth': 6, 'learning_rate': 0.019081293424843035, 'n_estimators': 429, 'subsample': 0.5348283871988303, 'colsample_bytree': 0.507746503554321, 'min_child_weight': 3, 'gamma': 3.064533322881137}. Best is trial 71 with value: 0.6957023151728348.\n"
     ]
    },
    {
     "name": "stdout",
     "output_type": "stream",
     "text": [
      "training on year [2018 2019] and testing on year 2020\n",
      "AUC score: 0.6811562946834059\n",
      "Accuracy score: 0.11692307692307692\n",
      "F1 score: 0.10382951574642425\n",
      "training on year [2019 2020] and testing on year 2021\n",
      "AUC score: 0.6930944601412177\n",
      "Accuracy score: 0.11556603773584906\n",
      "F1 score: 0.09069041922029797\n",
      "training on year [2020 2021] and testing on year 2022\n",
      "AUC score: 0.7014612839072744\n",
      "Accuracy score: 0.11691542288557213\n",
      "F1 score: 0.10326646631400961\n",
      "training on year [2021 2022] and testing on year 2023\n",
      "AUC score: 0.6726127430484621\n",
      "Accuracy score: 0.12682926829268293\n",
      "F1 score: 0.10735908961191741\n",
      "training on year [2022 2023] and testing on year 2024\n",
      "AUC score: 0.6970167584804161\n",
      "Accuracy score: 0.14382022471910114\n",
      "F1 score: 0.13275584937725174\n",
      "training on year [2023 2024] and testing on year 2025\n",
      "AUC score: 0.7246303778364713\n",
      "Accuracy score: 0.15702479338842976\n",
      "F1 score: 0.13981603979379317\n",
      "training on year [2024 2025]\n"
     ]
    },
    {
     "name": "stderr",
     "output_type": "stream",
     "text": [
      "[I 2025-08-13 16:32:04,257] Trial 73 finished with value: 0.6949953196828744 and parameters: {'max_depth': 6, 'learning_rate': 0.025213916521519206, 'n_estimators': 439, 'subsample': 0.5948480836598576, 'colsample_bytree': 0.5740319398915349, 'min_child_weight': 2, 'gamma': 2.537290798176266}. Best is trial 71 with value: 0.6957023151728348.\n"
     ]
    },
    {
     "name": "stdout",
     "output_type": "stream",
     "text": [
      "training on year [2018 2019] and testing on year 2020\n",
      "AUC score: 0.6847126551948969\n",
      "Accuracy score: 0.11076923076923077\n",
      "F1 score: 0.09940115818936382\n",
      "training on year [2019 2020] and testing on year 2021\n",
      "AUC score: 0.687842068697199\n",
      "Accuracy score: 0.09669811320754718\n",
      "F1 score: 0.07464764155223222\n",
      "training on year [2020 2021] and testing on year 2022\n",
      "AUC score: 0.7014492354526302\n",
      "Accuracy score: 0.10945273631840796\n",
      "F1 score: 0.09090075284208289\n",
      "training on year [2021 2022] and testing on year 2023\n",
      "AUC score: 0.667888136921724\n",
      "Accuracy score: 0.15853658536585366\n",
      "F1 score: 0.13596938899548666\n",
      "training on year [2022 2023] and testing on year 2024\n",
      "AUC score: 0.7011085680392063\n",
      "Accuracy score: 0.13707865168539327\n",
      "F1 score: 0.1246627086441137\n",
      "training on year [2023 2024] and testing on year 2025\n",
      "AUC score: 0.7331619991687586\n",
      "Accuracy score: 0.1446280991735537\n",
      "F1 score: 0.12192291535000147\n",
      "training on year [2024 2025]\n"
     ]
    },
    {
     "name": "stderr",
     "output_type": "stream",
     "text": [
      "[I 2025-08-13 16:32:13,425] Trial 74 finished with value: 0.6960271105790691 and parameters: {'max_depth': 6, 'learning_rate': 0.025881335215269752, 'n_estimators': 450, 'subsample': 0.5967465193071937, 'colsample_bytree': 0.57880966654506, 'min_child_weight': 3, 'gamma': 2.534826240186299}. Best is trial 74 with value: 0.6960271105790691.\n"
     ]
    },
    {
     "name": "stdout",
     "output_type": "stream",
     "text": [
      "training on year [2018 2019] and testing on year 2020\n",
      "AUC score: 0.6821125819259742\n",
      "Accuracy score: 0.10461538461538461\n",
      "F1 score: 0.09549637473351001\n",
      "training on year [2019 2020] and testing on year 2021\n",
      "AUC score: 0.6926664222773516\n",
      "Accuracy score: 0.12264150943396226\n",
      "F1 score: 0.09895459694013507\n",
      "training on year [2020 2021] and testing on year 2022\n",
      "AUC score: 0.6986927226129132\n",
      "Accuracy score: 0.12189054726368159\n",
      "F1 score: 0.10788455010324968\n",
      "training on year [2021 2022] and testing on year 2023\n",
      "AUC score: 0.6743783664733284\n",
      "Accuracy score: 0.13902439024390245\n",
      "F1 score: 0.12049561646241169\n",
      "training on year [2022 2023] and testing on year 2024\n",
      "AUC score: 0.7026019376199135\n",
      "Accuracy score: 0.14831460674157304\n",
      "F1 score: 0.13766990382713412\n",
      "training on year [2023 2024] and testing on year 2025\n",
      "AUC score: 0.7224749631709279\n",
      "Accuracy score: 0.1487603305785124\n",
      "F1 score: 0.13310897301224697\n",
      "training on year [2024 2025]\n"
     ]
    },
    {
     "name": "stderr",
     "output_type": "stream",
     "text": [
      "[I 2025-08-13 16:32:23,388] Trial 75 finished with value: 0.6954878323467347 and parameters: {'max_depth': 6, 'learning_rate': 0.025390665884540614, 'n_estimators': 451, 'subsample': 0.5994355557598179, 'colsample_bytree': 0.5822387313213063, 'min_child_weight': 2, 'gamma': 2.1342682628912812}. Best is trial 74 with value: 0.6960271105790691.\n"
     ]
    },
    {
     "name": "stdout",
     "output_type": "stream",
     "text": [
      "training on year [2018 2019] and testing on year 2020\n",
      "AUC score: 0.6840648804150535\n",
      "Accuracy score: 0.12\n",
      "F1 score: 0.10509353066883556\n",
      "training on year [2019 2020] and testing on year 2021\n",
      "AUC score: 0.6872876298492818\n",
      "Accuracy score: 0.10141509433962265\n",
      "F1 score: 0.07819153096572297\n",
      "training on year [2020 2021] and testing on year 2022\n",
      "AUC score: 0.700530252962057\n",
      "Accuracy score: 0.11940298507462686\n",
      "F1 score: 0.11034033822345145\n",
      "training on year [2021 2022] and testing on year 2023\n",
      "AUC score: 0.6705694726210555\n",
      "Accuracy score: 0.15609756097560976\n",
      "F1 score: 0.14213226841713428\n",
      "training on year [2022 2023] and testing on year 2024\n",
      "AUC score: 0.7043031018396223\n",
      "Accuracy score: 0.1550561797752809\n",
      "F1 score: 0.14080811337954882\n",
      "training on year [2023 2024] and testing on year 2025\n",
      "AUC score: 0.7287163389597853\n",
      "Accuracy score: 0.1446280991735537\n",
      "F1 score: 0.12603673734494134\n",
      "training on year [2024 2025]\n"
     ]
    },
    {
     "name": "stderr",
     "output_type": "stream",
     "text": [
      "[I 2025-08-13 16:32:33,397] Trial 76 finished with value: 0.6959119461078093 and parameters: {'max_depth': 6, 'learning_rate': 0.023380753537682184, 'n_estimators': 447, 'subsample': 0.6060954270906969, 'colsample_bytree': 0.585444349550893, 'min_child_weight': 3, 'gamma': 2.0487335781059746}. Best is trial 74 with value: 0.6960271105790691.\n"
     ]
    },
    {
     "name": "stdout",
     "output_type": "stream",
     "text": [
      "training on year [2018 2019] and testing on year 2020\n",
      "AUC score: 0.6788689276126133\n",
      "Accuracy score: 0.12615384615384614\n",
      "F1 score: 0.10562259396545111\n",
      "training on year [2019 2020] and testing on year 2021\n",
      "AUC score: 0.6814871412499393\n",
      "Accuracy score: 0.10141509433962265\n",
      "F1 score: 0.08375447432864801\n",
      "training on year [2020 2021] and testing on year 2022\n",
      "AUC score: 0.7007070711030907\n",
      "Accuracy score: 0.11940298507462686\n",
      "F1 score: 0.10407484359350551\n",
      "training on year [2021 2022] and testing on year 2023\n",
      "AUC score: 0.6654351015864444\n",
      "Accuracy score: 0.15609756097560976\n",
      "F1 score: 0.1346101967587776\n",
      "training on year [2022 2023] and testing on year 2024\n",
      "AUC score: 0.6997382232877223\n",
      "Accuracy score: 0.12808988764044943\n",
      "F1 score: 0.11462742348966587\n",
      "training on year [2023 2024] and testing on year 2025\n",
      "AUC score: 0.7283072757824799\n",
      "Accuracy score: 0.16115702479338842\n",
      "F1 score: 0.145130569581967\n",
      "training on year [2024 2025]\n"
     ]
    },
    {
     "name": "stderr",
     "output_type": "stream",
     "text": [
      "[I 2025-08-13 16:32:42,206] Trial 77 finished with value: 0.6924239567703817 and parameters: {'max_depth': 6, 'learning_rate': 0.024733244109695192, 'n_estimators': 378, 'subsample': 0.597400238327314, 'colsample_bytree': 0.5853161394790907, 'min_child_weight': 4, 'gamma': 1.812062398454016}. Best is trial 74 with value: 0.6960271105790691.\n"
     ]
    },
    {
     "name": "stdout",
     "output_type": "stream",
     "text": [
      "training on year [2018 2019] and testing on year 2020\n",
      "AUC score: 0.6575445420559249\n",
      "Accuracy score: 0.1076923076923077\n",
      "F1 score: 0.10135031372748092\n",
      "training on year [2019 2020] and testing on year 2021\n",
      "AUC score: 0.6765507697703076\n",
      "Accuracy score: 0.1179245283018868\n",
      "F1 score: 0.10149615106775195\n",
      "training on year [2020 2021] and testing on year 2022\n",
      "AUC score: 0.6863918768132888\n",
      "Accuracy score: 0.10199004975124377\n",
      "F1 score: 0.0912035652224692\n",
      "training on year [2021 2022] and testing on year 2023\n",
      "AUC score: 0.6639324167504186\n",
      "Accuracy score: 0.14878048780487804\n",
      "F1 score: 0.13909137831393992\n",
      "training on year [2022 2023] and testing on year 2024\n",
      "AUC score: 0.6821749126643114\n",
      "Accuracy score: 0.1550561797752809\n",
      "F1 score: 0.1465301070786197\n",
      "training on year [2023 2024] and testing on year 2025\n",
      "AUC score: 0.708796491249829\n",
      "Accuracy score: 0.1115702479338843\n",
      "F1 score: 0.11047528827622251\n",
      "training on year [2024 2025]\n"
     ]
    },
    {
     "name": "stderr",
     "output_type": "stream",
     "text": [
      "[I 2025-08-13 16:32:53,601] Trial 78 finished with value: 0.6792318348840133 and parameters: {'max_depth': 6, 'learning_rate': 0.08010305786003881, 'n_estimators': 460, 'subsample': 0.6129827236476747, 'colsample_bytree': 0.6283218897489349, 'min_child_weight': 3, 'gamma': 1.3648127877916283}. Best is trial 74 with value: 0.6960271105790691.\n"
     ]
    },
    {
     "name": "stdout",
     "output_type": "stream",
     "text": [
      "training on year [2018 2019] and testing on year 2020\n",
      "AUC score: 0.6879872019438131\n",
      "Accuracy score: 0.12615384615384614\n",
      "F1 score: 0.10949136768060254\n",
      "training on year [2019 2020] and testing on year 2021\n",
      "AUC score: 0.6791316844114614\n",
      "Accuracy score: 0.10141509433962265\n",
      "F1 score: 0.07688217049026128\n",
      "training on year [2020 2021] and testing on year 2022\n",
      "AUC score: 0.70399161297904\n",
      "Accuracy score: 0.10945273631840796\n",
      "F1 score: 0.08921137812367003\n",
      "training on year [2021 2022] and testing on year 2023\n",
      "AUC score: 0.6597334854713288\n",
      "Accuracy score: 0.14878048780487804\n",
      "F1 score: 0.11548098146433683\n",
      "training on year [2022 2023] and testing on year 2024\n",
      "AUC score: 0.7093625392530509\n",
      "Accuracy score: 0.13258426966292136\n",
      "F1 score: 0.11135803570169028\n",
      "training on year [2023 2024] and testing on year 2025\n",
      "AUC score: 0.7221757166904456\n",
      "Accuracy score: 0.15289256198347106\n",
      "F1 score: 0.12309791221200629\n",
      "training on year [2024 2025]\n"
     ]
    },
    {
     "name": "stderr",
     "output_type": "stream",
     "text": [
      "[I 2025-08-13 16:33:00,884] Trial 79 finished with value: 0.69373037345819 and parameters: {'max_depth': 6, 'learning_rate': 0.02271360992366163, 'n_estimators': 330, 'subsample': 0.6714055441039523, 'colsample_bytree': 0.5610040835244011, 'min_child_weight': 5, 'gamma': 2.0969016581856232}. Best is trial 74 with value: 0.6960271105790691.\n"
     ]
    },
    {
     "name": "stdout",
     "output_type": "stream",
     "text": [
      "training on year [2018 2019] and testing on year 2020\n",
      "AUC score: 0.6719649908791918\n",
      "Accuracy score: 0.10153846153846154\n",
      "F1 score: 0.0913716529129695\n",
      "training on year [2019 2020] and testing on year 2021\n",
      "AUC score: 0.6874933849521002\n",
      "Accuracy score: 0.10849056603773585\n",
      "F1 score: 0.08979460304618272\n",
      "training on year [2020 2021] and testing on year 2022\n",
      "AUC score: 0.700703534094191\n",
      "Accuracy score: 0.11691542288557213\n",
      "F1 score: 0.10795204081099766\n",
      "training on year [2021 2022] and testing on year 2023\n",
      "AUC score: 0.670919923017361\n",
      "Accuracy score: 0.14878048780487804\n",
      "F1 score: 0.1353167944533903\n",
      "training on year [2022 2023] and testing on year 2024\n",
      "AUC score: 0.6960304718726714\n",
      "Accuracy score: 0.1550561797752809\n",
      "F1 score: 0.14102615220881576\n",
      "training on year [2023 2024] and testing on year 2025\n",
      "AUC score: 0.7237824731751767\n",
      "Accuracy score: 0.1322314049586777\n",
      "F1 score: 0.12172886781643831\n",
      "training on year [2024 2025]\n"
     ]
    },
    {
     "name": "stderr",
     "output_type": "stream",
     "text": [
      "[I 2025-08-13 16:33:13,721] Trial 80 finished with value: 0.691815796331782 and parameters: {'max_depth': 6, 'learning_rate': 0.029295764236594402, 'n_estimators': 441, 'subsample': 0.5857622395010408, 'colsample_bytree': 0.5778669662337157, 'min_child_weight': 3, 'gamma': 1.6200831099438269}. Best is trial 74 with value: 0.6960271105790691.\n"
     ]
    },
    {
     "name": "stdout",
     "output_type": "stream",
     "text": [
      "training on year [2018 2019] and testing on year 2020\n",
      "AUC score: 0.6833921382008374\n",
      "Accuracy score: 0.11076923076923077\n",
      "F1 score: 0.10063187141791696\n",
      "training on year [2019 2020] and testing on year 2021\n",
      "AUC score: 0.6933009047176617\n",
      "Accuracy score: 0.10613207547169812\n",
      "F1 score: 0.08367403762779861\n",
      "training on year [2020 2021] and testing on year 2022\n",
      "AUC score: 0.6995463282266067\n",
      "Accuracy score: 0.10945273631840796\n",
      "F1 score: 0.09599629960688133\n",
      "training on year [2021 2022] and testing on year 2023\n",
      "AUC score: 0.6719009015893534\n",
      "Accuracy score: 0.13414634146341464\n",
      "F1 score: 0.11203312602745424\n",
      "training on year [2022 2023] and testing on year 2024\n",
      "AUC score: 0.7032162771440522\n",
      "Accuracy score: 0.15056179775280898\n",
      "F1 score: 0.13693582726575093\n",
      "training on year [2023 2024] and testing on year 2025\n",
      "AUC score: 0.7223552002610416\n",
      "Accuracy score: 0.1446280991735537\n",
      "F1 score: 0.13182907394157384\n",
      "training on year [2024 2025]\n"
     ]
    },
    {
     "name": "stderr",
     "output_type": "stream",
     "text": [
      "[I 2025-08-13 16:33:24,025] Trial 81 finished with value: 0.6956186250232589 and parameters: {'max_depth': 6, 'learning_rate': 0.025587261821745415, 'n_estimators': 403, 'subsample': 0.5605081206684335, 'colsample_bytree': 0.5369607321856835, 'min_child_weight': 2, 'gamma': 2.257935739312318}. Best is trial 74 with value: 0.6960271105790691.\n"
     ]
    },
    {
     "name": "stdout",
     "output_type": "stream",
     "text": [
      "training on year [2018 2019] and testing on year 2020\n",
      "AUC score: 0.6817709001104642\n",
      "Accuracy score: 0.1076923076923077\n",
      "F1 score: 0.09698123310371234\n",
      "training on year [2019 2020] and testing on year 2021\n",
      "AUC score: 0.693735576006712\n",
      "Accuracy score: 0.11320754716981132\n",
      "F1 score: 0.0917844238257036\n",
      "training on year [2020 2021] and testing on year 2022\n",
      "AUC score: 0.7000693545649953\n",
      "Accuracy score: 0.11442786069651742\n",
      "F1 score: 0.10276067651263314\n",
      "training on year [2021 2022] and testing on year 2023\n",
      "AUC score: 0.6734222900750272\n",
      "Accuracy score: 0.13170731707317074\n",
      "F1 score: 0.11197003241389637\n",
      "training on year [2022 2023] and testing on year 2024\n",
      "AUC score: 0.7029069447140471\n",
      "Accuracy score: 0.15280898876404495\n",
      "F1 score: 0.14149828282570742\n",
      "training on year [2023 2024] and testing on year 2025\n",
      "AUC score: 0.7251091450553802\n",
      "Accuracy score: 0.15289256198347106\n",
      "F1 score: 0.13820871802063026\n",
      "training on year [2024 2025]\n"
     ]
    },
    {
     "name": "stderr",
     "output_type": "stream",
     "text": [
      "[I 2025-08-13 16:33:33,364] Trial 82 finished with value: 0.6961690350877708 and parameters: {'max_depth': 6, 'learning_rate': 0.02539632134228189, 'n_estimators': 398, 'subsample': 0.5644448933924079, 'colsample_bytree': 0.5328471189350173, 'min_child_weight': 2, 'gamma': 2.2690651211355526}. Best is trial 82 with value: 0.6961690350877708.\n"
     ]
    },
    {
     "name": "stdout",
     "output_type": "stream",
     "text": [
      "training on year [2018 2019] and testing on year 2020\n",
      "AUC score: 0.6811351912658126\n",
      "Accuracy score: 0.12307692307692308\n",
      "F1 score: 0.11264570599013458\n",
      "training on year [2019 2020] and testing on year 2021\n",
      "AUC score: 0.6854247367588004\n",
      "Accuracy score: 0.10141509433962265\n",
      "F1 score: 0.07874221995734065\n",
      "training on year [2020 2021] and testing on year 2022\n",
      "AUC score: 0.701392418026795\n",
      "Accuracy score: 0.11442786069651742\n",
      "F1 score: 0.10341477756449605\n",
      "training on year [2021 2022] and testing on year 2023\n",
      "AUC score: 0.6679821823261374\n",
      "Accuracy score: 0.14390243902439023\n",
      "F1 score: 0.12852529347647063\n",
      "training on year [2022 2023] and testing on year 2024\n",
      "AUC score: 0.7027752166549345\n",
      "Accuracy score: 0.1303370786516854\n",
      "F1 score: 0.11809620065873824\n",
      "training on year [2023 2024] and testing on year 2025\n",
      "AUC score: 0.7282477915671774\n",
      "Accuracy score: 0.16115702479338842\n",
      "F1 score: 0.14413503015065243\n",
      "training on year [2024 2025]\n"
     ]
    },
    {
     "name": "stderr",
     "output_type": "stream",
     "text": [
      "[I 2025-08-13 16:33:42,567] Trial 83 finished with value: 0.6944929227666096 and parameters: {'max_depth': 6, 'learning_rate': 0.025923071287940337, 'n_estimators': 404, 'subsample': 0.597945467962246, 'colsample_bytree': 0.5324297600632907, 'min_child_weight': 3, 'gamma': 2.0600709038764204}. Best is trial 82 with value: 0.6961690350877708.\n"
     ]
    },
    {
     "name": "stdout",
     "output_type": "stream",
     "text": [
      "training on year [2018 2019] and testing on year 2020\n",
      "AUC score: 0.6812555623899476\n",
      "Accuracy score: 0.12923076923076923\n",
      "F1 score: 0.09084715769579758\n",
      "training on year [2019 2020] and testing on year 2021\n",
      "AUC score: 0.6710109895769054\n",
      "Accuracy score: 0.08254716981132075\n",
      "F1 score: 0.04674799494382796\n",
      "training on year [2020 2021] and testing on year 2022\n",
      "AUC score: 0.6769250694550487\n",
      "Accuracy score: 0.10696517412935323\n",
      "F1 score: 0.07302692082342274\n",
      "training on year [2021 2022] and testing on year 2023\n",
      "AUC score: 0.6405847264245412\n",
      "Accuracy score: 0.0975609756097561\n",
      "F1 score: 0.0515850205159045\n",
      "training on year [2022 2023] and testing on year 2024\n",
      "AUC score: 0.7126169449382097\n",
      "Accuracy score: 0.13258426966292136\n",
      "F1 score: 0.08788551352640583\n",
      "training on year [2023 2024] and testing on year 2025\n",
      "AUC score: 0.7071342003410523\n",
      "Accuracy score: 0.09917355371900827\n",
      "F1 score: 0.06913726034065246\n",
      "training on year [2024 2025]\n"
     ]
    },
    {
     "name": "stderr",
     "output_type": "stream",
     "text": [
      "[I 2025-08-13 16:33:48,558] Trial 84 finished with value: 0.6815879155209509 and parameters: {'max_depth': 6, 'learning_rate': 0.022099526291795034, 'n_estimators': 282, 'subsample': 0.5782544547011426, 'colsample_bytree': 0.544542410163497, 'min_child_weight': 10, 'gamma': 2.2307170147223836}. Best is trial 82 with value: 0.6961690350877708.\n"
     ]
    },
    {
     "name": "stdout",
     "output_type": "stream",
     "text": [
      "training on year [2018 2019] and testing on year 2020\n",
      "AUC score: 0.6858257956372766\n",
      "Accuracy score: 0.11384615384615385\n",
      "F1 score: 0.10097266628494214\n",
      "training on year [2019 2020] and testing on year 2021\n",
      "AUC score: 0.6961642461402563\n",
      "Accuracy score: 0.10613207547169812\n",
      "F1 score: 0.08249728698850049\n",
      "training on year [2020 2021] and testing on year 2022\n",
      "AUC score: 0.7004056790072217\n",
      "Accuracy score: 0.12437810945273632\n",
      "F1 score: 0.11571589423627161\n",
      "training on year [2021 2022] and testing on year 2023\n",
      "AUC score: 0.6747760066958436\n",
      "Accuracy score: 0.13170731707317074\n",
      "F1 score: 0.11191843148907497\n",
      "training on year [2022 2023] and testing on year 2024\n",
      "AUC score: 0.69791833076724\n",
      "Accuracy score: 0.14382022471910114\n",
      "F1 score: 0.13637149264046994\n",
      "training on year [2023 2024] and testing on year 2025\n",
      "AUC score: 0.7202470439605718\n",
      "Accuracy score: 0.15289256198347106\n",
      "F1 score: 0.13193137621083273\n",
      "training on year [2024 2025]\n"
     ]
    },
    {
     "name": "stderr",
     "output_type": "stream",
     "text": [
      "[I 2025-08-13 16:33:59,301] Trial 85 finished with value: 0.6958895170347349 and parameters: {'max_depth': 6, 'learning_rate': 0.018132412489751035, 'n_estimators': 448, 'subsample': 0.5616045538870132, 'colsample_bytree': 0.5170675803068643, 'min_child_weight': 1, 'gamma': 2.4589354604394154}. Best is trial 82 with value: 0.6961690350877708.\n"
     ]
    },
    {
     "name": "stdout",
     "output_type": "stream",
     "text": [
      "training on year [2018 2019] and testing on year 2020\n",
      "AUC score: 0.6873576992850496\n",
      "Accuracy score: 0.11692307692307692\n",
      "F1 score: 0.10403075139211211\n",
      "training on year [2019 2020] and testing on year 2021\n",
      "AUC score: 0.6963656217843766\n",
      "Accuracy score: 0.1179245283018868\n",
      "F1 score: 0.09041396874604132\n",
      "training on year [2020 2021] and testing on year 2022\n",
      "AUC score: 0.7006684146576696\n",
      "Accuracy score: 0.11691542288557213\n",
      "F1 score: 0.10821479566204749\n",
      "training on year [2021 2022] and testing on year 2023\n",
      "AUC score: 0.6731709706261201\n",
      "Accuracy score: 0.13902439024390245\n",
      "F1 score: 0.11652916145815999\n",
      "training on year [2022 2023] and testing on year 2024\n",
      "AUC score: 0.698740563256742\n",
      "Accuracy score: 0.15056179775280898\n",
      "F1 score: 0.1427462999153925\n",
      "training on year [2023 2024] and testing on year 2025\n",
      "AUC score: 0.7207224859004778\n",
      "Accuracy score: 0.16115702479338842\n",
      "F1 score: 0.14217686930633958\n",
      "training on year [2024 2025]\n"
     ]
    },
    {
     "name": "stderr",
     "output_type": "stream",
     "text": [
      "[I 2025-08-13 16:34:09,223] Trial 86 finished with value: 0.6961709592517393 and parameters: {'max_depth': 5, 'learning_rate': 0.013986172366865238, 'n_estimators': 392, 'subsample': 0.5627837368510553, 'colsample_bytree': 0.517934392135441, 'min_child_weight': 1, 'gamma': 2.5047778851400344}. Best is trial 86 with value: 0.6961709592517393.\n"
     ]
    },
    {
     "name": "stdout",
     "output_type": "stream",
     "text": [
      "training on year [2018 2019] and testing on year 2020\n",
      "AUC score: 0.687211601180916\n",
      "Accuracy score: 0.11076923076923077\n",
      "F1 score: 0.09416547666355793\n",
      "training on year [2019 2020] and testing on year 2021\n",
      "AUC score: 0.6959868639177513\n",
      "Accuracy score: 0.1179245283018868\n",
      "F1 score: 0.09057514219039028\n",
      "training on year [2020 2021] and testing on year 2022\n",
      "AUC score: 0.7014497930716099\n",
      "Accuracy score: 0.11940298507462686\n",
      "F1 score: 0.11001357950853256\n",
      "training on year [2021 2022] and testing on year 2023\n",
      "AUC score: 0.6734544649773855\n",
      "Accuracy score: 0.13658536585365855\n",
      "F1 score: 0.11104573295783773\n",
      "training on year [2022 2023] and testing on year 2024\n",
      "AUC score: 0.6977111699917232\n",
      "Accuracy score: 0.14831460674157304\n",
      "F1 score: 0.14008531289153456\n",
      "training on year [2023 2024] and testing on year 2025\n",
      "AUC score: 0.7201533801536699\n",
      "Accuracy score: 0.16942148760330578\n",
      "F1 score: 0.1496433368240626\n",
      "training on year [2024 2025]\n"
     ]
    },
    {
     "name": "stderr",
     "output_type": "stream",
     "text": [
      "[I 2025-08-13 16:34:19,186] Trial 87 finished with value: 0.6959945455488427 and parameters: {'max_depth': 5, 'learning_rate': 0.012045908580769028, 'n_estimators': 394, 'subsample': 0.5619742209871538, 'colsample_bytree': 0.5157114379178234, 'min_child_weight': 1, 'gamma': 2.515832746628292}. Best is trial 86 with value: 0.6961709592517393.\n"
     ]
    },
    {
     "name": "stdout",
     "output_type": "stream",
     "text": [
      "training on year [2018 2019] and testing on year 2020\n",
      "AUC score: 0.6873440165178619\n",
      "Accuracy score: 0.11076923076923077\n",
      "F1 score: 0.09720835627744726\n",
      "training on year [2019 2020] and testing on year 2021\n",
      "AUC score: 0.6956177681369655\n",
      "Accuracy score: 0.1179245283018868\n",
      "F1 score: 0.0898711340370506\n",
      "training on year [2020 2021] and testing on year 2022\n",
      "AUC score: 0.7032432749575472\n",
      "Accuracy score: 0.12437810945273632\n",
      "F1 score: 0.11408003156977328\n",
      "training on year [2021 2022] and testing on year 2023\n",
      "AUC score: 0.6751693933836767\n",
      "Accuracy score: 0.13414634146341464\n",
      "F1 score: 0.11501386451986997\n",
      "training on year [2022 2023] and testing on year 2024\n",
      "AUC score: 0.698548663526168\n",
      "Accuracy score: 0.1550561797752809\n",
      "F1 score: 0.1482995922483961\n",
      "training on year [2023 2024] and testing on year 2025\n",
      "AUC score: 0.724870593618623\n",
      "Accuracy score: 0.15702479338842976\n",
      "F1 score: 0.14153489565947888\n",
      "training on year [2024 2025]\n"
     ]
    },
    {
     "name": "stderr",
     "output_type": "stream",
     "text": [
      "[I 2025-08-13 16:34:29,099] Trial 88 finished with value: 0.697465618356807 and parameters: {'max_depth': 5, 'learning_rate': 0.01247450754118102, 'n_estimators': 313, 'subsample': 0.5688770388592964, 'colsample_bytree': 0.5177503001104325, 'min_child_weight': 1, 'gamma': 1.8802676243355108}. Best is trial 88 with value: 0.697465618356807.\n"
     ]
    },
    {
     "name": "stdout",
     "output_type": "stream",
     "text": [
      "training on year [2018 2019] and testing on year 2020\n",
      "AUC score: 0.6870103402420672\n",
      "Accuracy score: 0.10461538461538461\n",
      "F1 score: 0.08807499450300947\n",
      "training on year [2019 2020] and testing on year 2021\n",
      "AUC score: 0.6981175282535395\n",
      "Accuracy score: 0.12264150943396226\n",
      "F1 score: 0.09420496286947147\n",
      "training on year [2020 2021] and testing on year 2022\n",
      "AUC score: 0.7026981222956588\n",
      "Accuracy score: 0.12935323383084577\n",
      "F1 score: 0.11954023268193176\n",
      "training on year [2021 2022] and testing on year 2023\n",
      "AUC score: 0.6748998614344272\n",
      "Accuracy score: 0.14390243902439023\n",
      "F1 score: 0.1238143742239975\n",
      "training on year [2022 2023] and testing on year 2024\n",
      "AUC score: 0.6954224747772686\n",
      "Accuracy score: 0.14831460674157304\n",
      "F1 score: 0.14043147260838956\n",
      "training on year [2023 2024] and testing on year 2025\n",
      "AUC score: 0.726588696367284\n",
      "Accuracy score: 0.1446280991735537\n",
      "F1 score: 0.12778386785435886\n",
      "training on year [2024 2025]\n"
     ]
    },
    {
     "name": "stderr",
     "output_type": "stream",
     "text": [
      "[I 2025-08-13 16:34:37,066] Trial 89 finished with value: 0.6974561705617076 and parameters: {'max_depth': 5, 'learning_rate': 0.011870072025564197, 'n_estimators': 233, 'subsample': 0.562726954181923, 'colsample_bytree': 0.5176566086910102, 'min_child_weight': 1, 'gamma': 1.8744855893769068}. Best is trial 88 with value: 0.697465618356807.\n"
     ]
    },
    {
     "name": "stdout",
     "output_type": "stream",
     "text": [
      "training on year [2018 2019] and testing on year 2020\n",
      "AUC score: 0.6880845546614853\n",
      "Accuracy score: 0.1076923076923077\n",
      "F1 score: 0.09332367186872355\n",
      "training on year [2019 2020] and testing on year 2021\n",
      "AUC score: 0.6944757659400932\n",
      "Accuracy score: 0.11556603773584906\n",
      "F1 score: 0.08659752614782767\n",
      "training on year [2020 2021] and testing on year 2022\n",
      "AUC score: 0.7007142724511265\n",
      "Accuracy score: 0.12189054726368159\n",
      "F1 score: 0.10607084503610337\n",
      "training on year [2021 2022] and testing on year 2023\n",
      "AUC score: 0.6739525324256117\n",
      "Accuracy score: 0.11707317073170732\n",
      "F1 score: 0.1033341880435564\n",
      "training on year [2022 2023] and testing on year 2024\n",
      "AUC score: 0.6906350969340888\n",
      "Accuracy score: 0.14157303370786517\n",
      "F1 score: 0.13393705226722347\n",
      "training on year [2023 2024] and testing on year 2025\n",
      "AUC score: 0.7236260538435787\n",
      "Accuracy score: 0.1487603305785124\n",
      "F1 score: 0.12998494702601568\n",
      "training on year [2024 2025]\n"
     ]
    },
    {
     "name": "stderr",
     "output_type": "stream",
     "text": [
      "[I 2025-08-13 16:34:44,693] Trial 90 finished with value: 0.6952480460426641 and parameters: {'max_depth': 5, 'learning_rate': 0.012486398220528008, 'n_estimators': 220, 'subsample': 0.6166170205933171, 'colsample_bytree': 0.5198844394822835, 'min_child_weight': 1, 'gamma': 1.86865573229581}. Best is trial 88 with value: 0.697465618356807.\n"
     ]
    },
    {
     "name": "stdout",
     "output_type": "stream",
     "text": [
      "training on year [2018 2019] and testing on year 2020\n",
      "AUC score: 0.6835862709389197\n",
      "Accuracy score: 0.11076923076923077\n",
      "F1 score: 0.09968870234476784\n",
      "training on year [2019 2020] and testing on year 2021\n",
      "AUC score: 0.6960445369601713\n",
      "Accuracy score: 0.12028301886792453\n",
      "F1 score: 0.09441514243019439\n",
      "training on year [2020 2021] and testing on year 2022\n",
      "AUC score: 0.7023774763249733\n",
      "Accuracy score: 0.11940298507462686\n",
      "F1 score: 0.10727928028283566\n",
      "training on year [2021 2022] and testing on year 2023\n",
      "AUC score: 0.6740667824786915\n",
      "Accuracy score: 0.13170731707317074\n",
      "F1 score: 0.11799453915306268\n",
      "training on year [2022 2023] and testing on year 2024\n",
      "AUC score: 0.6967428972978273\n",
      "Accuracy score: 0.16179775280898875\n",
      "F1 score: 0.15334719022773768\n",
      "training on year [2023 2024] and testing on year 2025\n",
      "AUC score: 0.7228408768707462\n",
      "Accuracy score: 0.15289256198347106\n",
      "F1 score: 0.13786125386902945\n",
      "training on year [2024 2025]\n"
     ]
    },
    {
     "name": "stderr",
     "output_type": "stream",
     "text": [
      "[I 2025-08-13 16:34:56,223] Trial 91 finished with value: 0.6959431401452215 and parameters: {'max_depth': 5, 'learning_rate': 0.013951009933670839, 'n_estimators': 312, 'subsample': 0.5626880754183535, 'colsample_bytree': 0.5000636591063243, 'min_child_weight': 1, 'gamma': 1.4833434972350108}. Best is trial 88 with value: 0.697465618356807.\n"
     ]
    },
    {
     "name": "stdout",
     "output_type": "stream",
     "text": [
      "training on year [2018 2019] and testing on year 2020\n",
      "AUC score: 0.6801314813642907\n",
      "Accuracy score: 0.11076923076923077\n",
      "F1 score: 0.09535197831518649\n",
      "training on year [2019 2020] and testing on year 2021\n",
      "AUC score: 0.6906476892841987\n",
      "Accuracy score: 0.11320754716981132\n",
      "F1 score: 0.08753337960707196\n",
      "training on year [2020 2021] and testing on year 2022\n",
      "AUC score: 0.703596424494596\n",
      "Accuracy score: 0.12935323383084577\n",
      "F1 score: 0.11810988060016511\n",
      "training on year [2021 2022] and testing on year 2023\n",
      "AUC score: 0.6741425128099404\n",
      "Accuracy score: 0.13902439024390245\n",
      "F1 score: 0.12549088735180147\n",
      "training on year [2022 2023] and testing on year 2024\n",
      "AUC score: 0.6931396121756911\n",
      "Accuracy score: 0.15056179775280898\n",
      "F1 score: 0.14204066036859483\n",
      "training on year [2023 2024] and testing on year 2025\n",
      "AUC score: 0.7209782072512552\n",
      "Accuracy score: 0.16115702479338842\n",
      "F1 score: 0.149317446524928\n",
      "training on year [2024 2025]\n"
     ]
    },
    {
     "name": "stderr",
     "output_type": "stream",
     "text": [
      "[I 2025-08-13 16:35:03,461] Trial 92 finished with value: 0.6937726545633286 and parameters: {'max_depth': 5, 'learning_rate': 0.014213707519125148, 'n_estimators': 149, 'subsample': 0.5686301775733194, 'colsample_bytree': 0.516430837218767, 'min_child_weight': 1, 'gamma': 1.1449187923660193}. Best is trial 88 with value: 0.697465618356807.\n"
     ]
    },
    {
     "name": "stdout",
     "output_type": "stream",
     "text": [
      "training on year [2018 2019] and testing on year 2020\n",
      "AUC score: 0.6833833855268611\n",
      "Accuracy score: 0.09538461538461539\n",
      "F1 score: 0.08054281136685992\n",
      "training on year [2019 2020] and testing on year 2021\n",
      "AUC score: 0.6883097473618816\n",
      "Accuracy score: 0.10613207547169812\n",
      "F1 score: 0.08750908534313288\n",
      "training on year [2020 2021] and testing on year 2022\n",
      "AUC score: 0.7010603820717651\n",
      "Accuracy score: 0.11940298507462686\n",
      "F1 score: 0.10639440903235563\n",
      "training on year [2021 2022] and testing on year 2023\n",
      "AUC score: 0.6779418164927772\n",
      "Accuracy score: 0.14146341463414633\n",
      "F1 score: 0.12863617339632072\n",
      "training on year [2022 2023] and testing on year 2024\n",
      "AUC score: 0.6906270448684897\n",
      "Accuracy score: 0.13707865168539327\n",
      "F1 score: 0.1294430466830916\n",
      "training on year [2023 2024] and testing on year 2025\n",
      "AUC score: 0.7210739533237533\n",
      "Accuracy score: 0.15289256198347106\n",
      "F1 score: 0.13982131012798027\n",
      "training on year [2024 2025]\n"
     ]
    },
    {
     "name": "stderr",
     "output_type": "stream",
     "text": [
      "[I 2025-08-13 16:35:17,157] Trial 93 finished with value: 0.693732721607588 and parameters: {'max_depth': 5, 'learning_rate': 0.011415305710715608, 'n_estimators': 241, 'subsample': 0.5806410646369672, 'colsample_bytree': 0.5523275584926162, 'min_child_weight': 1, 'gamma': 0.7553907663756059}. Best is trial 88 with value: 0.697465618356807.\n"
     ]
    },
    {
     "name": "stdout",
     "output_type": "stream",
     "text": [
      "training on year [2018 2019] and testing on year 2020\n",
      "AUC score: 0.6862602021818323\n",
      "Accuracy score: 0.11384615384615385\n",
      "F1 score: 0.10202204610965929\n",
      "training on year [2019 2020] and testing on year 2021\n",
      "AUC score: 0.6942279724554713\n",
      "Accuracy score: 0.12028301886792453\n",
      "F1 score: 0.0929628049154216\n",
      "training on year [2020 2021] and testing on year 2022\n",
      "AUC score: 0.7008393044315894\n",
      "Accuracy score: 0.11691542288557213\n",
      "F1 score: 0.10432120884246163\n",
      "training on year [2021 2022] and testing on year 2023\n",
      "AUC score: 0.6748085355774539\n",
      "Accuracy score: 0.13170731707317074\n",
      "F1 score: 0.11652426152823515\n",
      "training on year [2022 2023] and testing on year 2024\n",
      "AUC score: 0.6975392290628049\n",
      "Accuracy score: 0.15056179775280898\n",
      "F1 score: 0.14154437739576564\n",
      "training on year [2023 2024] and testing on year 2025\n",
      "AUC score: 0.7208976618187377\n",
      "Accuracy score: 0.1446280991735537\n",
      "F1 score: 0.1293161024943165\n",
      "training on year [2024 2025]\n"
     ]
    },
    {
     "name": "stderr",
     "output_type": "stream",
     "text": [
      "[I 2025-08-13 16:35:27,064] Trial 94 finished with value: 0.6957621509213149 and parameters: {'max_depth': 5, 'learning_rate': 0.014808278726554764, 'n_estimators': 313, 'subsample': 0.5597896946738589, 'colsample_bytree': 0.5000251661143956, 'min_child_weight': 1, 'gamma': 1.7931613907343136}. Best is trial 88 with value: 0.697465618356807.\n"
     ]
    },
    {
     "name": "stdout",
     "output_type": "stream",
     "text": [
      "training on year [2018 2019] and testing on year 2020\n",
      "AUC score: 0.6837306537126709\n",
      "Accuracy score: 0.10461538461538461\n",
      "F1 score: 0.0941703234554894\n",
      "training on year [2019 2020] and testing on year 2021\n",
      "AUC score: 0.695169023009464\n",
      "Accuracy score: 0.1320754716981132\n",
      "F1 score: 0.10841983948913067\n",
      "training on year [2020 2021] and testing on year 2022\n",
      "AUC score: 0.7022899892718262\n",
      "Accuracy score: 0.12189054726368159\n",
      "F1 score: 0.11137699766634615\n",
      "training on year [2021 2022] and testing on year 2023\n",
      "AUC score: 0.6748330388248223\n",
      "Accuracy score: 0.13902439024390245\n",
      "F1 score: 0.12423920390627521\n",
      "training on year [2022 2023] and testing on year 2024\n",
      "AUC score: 0.6958085360010288\n",
      "Accuracy score: 0.1550561797752809\n",
      "F1 score: 0.14737583980413285\n",
      "training on year [2023 2024] and testing on year 2025\n",
      "AUC score: 0.7210960786365317\n",
      "Accuracy score: 0.15702479338842976\n",
      "F1 score: 0.14374265508399384\n",
      "training on year [2024 2025]\n"
     ]
    },
    {
     "name": "stderr",
     "output_type": "stream",
     "text": [
      "[I 2025-08-13 16:35:38,964] Trial 95 finished with value: 0.6954878865760573 and parameters: {'max_depth': 5, 'learning_rate': 0.014879859512206762, 'n_estimators': 332, 'subsample': 0.5589284601646854, 'colsample_bytree': 0.5207745220307446, 'min_child_weight': 1, 'gamma': 1.5430881406046024}. Best is trial 88 with value: 0.697465618356807.\n"
     ]
    },
    {
     "name": "stdout",
     "output_type": "stream",
     "text": [
      "training on year [2018 2019] and testing on year 2020\n",
      "AUC score: 0.6861629725958657\n",
      "Accuracy score: 0.11384615384615385\n",
      "F1 score: 0.09983105518005286\n",
      "training on year [2019 2020] and testing on year 2021\n",
      "AUC score: 0.6948962808306145\n",
      "Accuracy score: 0.1179245283018868\n",
      "F1 score: 0.08989729252884057\n",
      "training on year [2020 2021] and testing on year 2022\n",
      "AUC score: 0.7015095662933258\n",
      "Accuracy score: 0.12189054726368159\n",
      "F1 score: 0.10878144120435242\n",
      "training on year [2021 2022] and testing on year 2023\n",
      "AUC score: 0.6762552687742331\n",
      "Accuracy score: 0.13170731707317074\n",
      "F1 score: 0.11763047812121441\n",
      "training on year [2022 2023] and testing on year 2024\n",
      "AUC score: 0.6954587978001453\n",
      "Accuracy score: 0.15730337078651685\n",
      "F1 score: 0.14983552637686315\n",
      "training on year [2023 2024] and testing on year 2025\n",
      "AUC score: 0.7236205540779144\n",
      "Accuracy score: 0.15289256198347106\n",
      "F1 score: 0.13594484407262875\n",
      "training on year [2024 2025]\n"
     ]
    },
    {
     "name": "stderr",
     "output_type": "stream",
     "text": [
      "[I 2025-08-13 16:35:48,606] Trial 96 finished with value: 0.6963172400620166 and parameters: {'max_depth': 5, 'learning_rate': 0.0165003734593468, 'n_estimators': 301, 'subsample': 0.5675455063785815, 'colsample_bytree': 0.5022850470707635, 'min_child_weight': 1, 'gamma': 1.7160013121332829}. Best is trial 88 with value: 0.697465618356807.\n"
     ]
    },
    {
     "name": "stdout",
     "output_type": "stream",
     "text": [
      "training on year [2018 2019] and testing on year 2020\n",
      "AUC score: 0.6829940288474814\n",
      "Accuracy score: 0.09230769230769231\n",
      "F1 score: 0.0774310428797543\n",
      "training on year [2019 2020] and testing on year 2021\n",
      "AUC score: 0.6958613619528726\n",
      "Accuracy score: 0.11084905660377359\n",
      "F1 score: 0.0905878302549864\n",
      "training on year [2020 2021] and testing on year 2022\n",
      "AUC score: 0.6996673536330307\n",
      "Accuracy score: 0.11940298507462686\n",
      "F1 score: 0.10783030719316547\n",
      "training on year [2021 2022] and testing on year 2023\n",
      "AUC score: 0.6759785506626717\n",
      "Accuracy score: 0.13902439024390245\n",
      "F1 score: 0.12470092439972151\n",
      "training on year [2022 2023] and testing on year 2024\n",
      "AUC score: 0.6968985372174484\n",
      "Accuracy score: 0.15730337078651685\n",
      "F1 score: 0.1514724056012188\n",
      "training on year [2023 2024] and testing on year 2025\n",
      "AUC score: 0.7242874441766148\n",
      "Accuracy score: 0.13636363636363635\n",
      "F1 score: 0.12265897721341486\n",
      "training on year [2024 2025]\n"
     ]
    },
    {
     "name": "stderr",
     "output_type": "stream",
     "text": [
      "[I 2025-08-13 16:36:01,276] Trial 97 finished with value: 0.6959478794150199 and parameters: {'max_depth': 5, 'learning_rate': 0.01800738052331157, 'n_estimators': 360, 'subsample': 0.6083285083120008, 'colsample_bytree': 0.5266427845597091, 'min_child_weight': 1, 'gamma': 1.4039989149781524}. Best is trial 88 with value: 0.697465618356807.\n"
     ]
    },
    {
     "name": "stdout",
     "output_type": "stream",
     "text": [
      "training on year [2018 2019] and testing on year 2020\n",
      "AUC score: 0.6846258262479893\n",
      "Accuracy score: 0.10153846153846154\n",
      "F1 score: 0.08858954344027578\n",
      "training on year [2019 2020] and testing on year 2021\n",
      "AUC score: 0.6907789542428241\n",
      "Accuracy score: 0.11084905660377359\n",
      "F1 score: 0.08843758808493628\n",
      "training on year [2020 2021] and testing on year 2022\n",
      "AUC score: 0.694520123311068\n",
      "Accuracy score: 0.11442786069651742\n",
      "F1 score: 0.10497449185077942\n",
      "training on year [2021 2022] and testing on year 2023\n",
      "AUC score: 0.6775994556345869\n",
      "Accuracy score: 0.11951219512195121\n",
      "F1 score: 0.10435612752233302\n",
      "training on year [2022 2023] and testing on year 2024\n",
      "AUC score: 0.6925300736276758\n",
      "Accuracy score: 0.15280898876404495\n",
      "F1 score: 0.14250414442714818\n",
      "training on year [2023 2024] and testing on year 2025\n",
      "AUC score: 0.716171640182494\n",
      "Accuracy score: 0.13636363636363635\n",
      "F1 score: 0.12118614153404876\n",
      "training on year [2024 2025]\n"
     ]
    },
    {
     "name": "stderr",
     "output_type": "stream",
     "text": [
      "[I 2025-08-13 16:36:12,825] Trial 98 finished with value: 0.6927043455411064 and parameters: {'max_depth': 4, 'learning_rate': 0.011164772571184818, 'n_estimators': 296, 'subsample': 0.7881238326050595, 'colsample_bytree': 0.5239143945556117, 'min_child_weight': 1, 'gamma': 1.3896192125952291}. Best is trial 88 with value: 0.697465618356807.\n"
     ]
    },
    {
     "name": "stdout",
     "output_type": "stream",
     "text": [
      "training on year [2018 2019] and testing on year 2020\n",
      "AUC score: 0.6820268527306718\n",
      "Accuracy score: 0.09538461538461539\n",
      "F1 score: 0.08219684048807484\n",
      "training on year [2019 2020] and testing on year 2021\n",
      "AUC score: 0.6936255509038365\n",
      "Accuracy score: 0.10613207547169812\n",
      "F1 score: 0.08745003498233606\n",
      "training on year [2020 2021] and testing on year 2022\n",
      "AUC score: 0.6967133663635285\n",
      "Accuracy score: 0.11194029850746269\n",
      "F1 score: 0.10442356086352267\n",
      "training on year [2021 2022] and testing on year 2023\n",
      "AUC score: 0.6732171029526575\n",
      "Accuracy score: 0.13170731707317074\n",
      "F1 score: 0.11869140096762594\n",
      "training on year [2022 2023] and testing on year 2024\n",
      "AUC score: 0.6935978739087089\n",
      "Accuracy score: 0.15955056179775282\n",
      "F1 score: 0.15182379832727186\n",
      "training on year [2023 2024] and testing on year 2025\n",
      "AUC score: 0.7193551739446095\n",
      "Accuracy score: 0.14049586776859505\n",
      "F1 score: 0.12660812364536747\n",
      "training on year [2024 2025]\n"
     ]
    },
    {
     "name": "stderr",
     "output_type": "stream",
     "text": [
      "[I 2025-08-13 16:36:26,818] Trial 99 finished with value: 0.693089320134002 and parameters: {'max_depth': 5, 'learning_rate': 0.01688411621423263, 'n_estimators': 360, 'subsample': 0.6403196965811748, 'colsample_bytree': 0.5099877618285241, 'min_child_weight': 1, 'gamma': 1.2319852938628701}. Best is trial 88 with value: 0.697465618356807.\n"
     ]
    },
    {
     "name": "stdout",
     "output_type": "stream",
     "text": [
      "best params:  {'max_depth': 5, 'learning_rate': 0.01247450754118102, 'n_estimators': 313, 'subsample': 0.5688770388592964, 'colsample_bytree': 0.5177503001104325, 'min_child_weight': 1, 'gamma': 1.8802676243355108}\n",
      "best auc:  0.697465618356807\n"
     ]
    }
   ],
   "source": [
    "study = optuna.create_study(direction=\"maximize\")\n",
    "study.optimize(objective, n_trials=100)\n",
    "print(\"best params: \", study.best_params)\n",
    "print(\"best auc: \", study.best_value)\n",
    "\n",
    "pd.DataFrame(study.best_trials).to_csv('xgb_best_trials.csv')"
   ]
  },
  {
   "cell_type": "markdown",
   "id": "17348d4a",
   "metadata": {},
   "source": [
    "params"
   ]
  },
  {
   "cell_type": "code",
   "execution_count": 5,
   "id": "a0101360",
   "metadata": {},
   "outputs": [
    {
     "name": "stdout",
     "output_type": "stream",
     "text": [
      "Best parameters saved to xgb_best_params.json\n",
      "Parameters: {'max_depth': 5, 'learning_rate': 0.01247450754118102, 'n_estimators': 313, 'subsample': 0.5688770388592964, 'colsample_bytree': 0.5177503001104325, 'min_child_weight': 1, 'gamma': 1.8802676243355108}\n"
     ]
    }
   ],
   "source": [
    "params = study.best_params\n",
    "\n",
    "import json\n",
    "\n",
    "# Save the best parameters to a JSON file\n",
    "with open('xgb_best_params.json', 'w') as f:\n",
    "    json.dump(params, f, indent=2)\n",
    "\n",
    "print(\"Best parameters saved to xgb_best_params.json\")\n",
    "print(\"Parameters:\", params)\n"
   ]
  }
 ],
 "metadata": {
  "kernelspec": {
   "display_name": "base",
   "language": "python",
   "name": "python3"
  },
  "language_info": {
   "codemirror_mode": {
    "name": "ipython",
    "version": 3
   },
   "file_extension": ".py",
   "mimetype": "text/x-python",
   "name": "python",
   "nbconvert_exporter": "python",
   "pygments_lexer": "ipython3",
   "version": "3.12.2"
  }
 },
 "nbformat": 4,
 "nbformat_minor": 5
}
